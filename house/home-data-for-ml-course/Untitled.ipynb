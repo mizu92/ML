{
 "cells": [
  {
   "cell_type": "markdown",
   "metadata": {},
   "source": [
    "## Initial Import"
   ]
  },
  {
   "cell_type": "code",
   "execution_count": 50,
   "metadata": {},
   "outputs": [],
   "source": [
    "import pandas as pd\n",
    "import numpy as np\n",
    "from sklearn.preprocessing import StandardScaler\n",
    "from sklearn.model_selection import train_test_split, cross_val_score\n",
    "from sklearn.linear_model import LogisticRegression, LinearRegression\n",
    "from sklearn.impute import SimpleImputer\n",
    "import matplotlib.pyplot as plt\n",
    "\n",
    "\n",
    "%matplotlib inline"
   ]
  },
  {
   "cell_type": "code",
   "execution_count": 45,
   "metadata": {},
   "outputs": [],
   "source": [
    "data = pd.read_csv('train.csv')"
   ]
  },
  {
   "cell_type": "markdown",
   "metadata": {},
   "source": [
    "## Delete ID and single distinct data"
   ]
  },
  {
   "cell_type": "code",
   "execution_count": 46,
   "metadata": {},
   "outputs": [
    {
     "name": "stdout",
     "output_type": "stream",
     "text": [
      "81\n",
      "80\n"
     ]
    }
   ],
   "source": [
    "print(len(data.columns))\n",
    "for cols in data.columns:\n",
    "    if (data[cols].nunique() == len(data)) | (data[cols].nunique()==1):\n",
    "        data.drop(columns=cols, inplace=True)\n",
    "    else:\n",
    "        None\n",
    "\n",
    "print(len(data.columns))"
   ]
  },
  {
   "cell_type": "markdown",
   "metadata": {},
   "source": [
    "## Drop Nulls and split x and y"
   ]
  },
  {
   "cell_type": "code",
   "execution_count": 47,
   "metadata": {},
   "outputs": [],
   "source": [
    "data = data.dropna(axis=1, thresh=int(np.ceil(0.2*len(data))))\n",
    "y = data['SalePrice']\n",
    "x = data.drop(['SalePrice'], axis=1)"
   ]
  },
  {
   "cell_type": "code",
   "execution_count": 52,
   "metadata": {},
   "outputs": [],
   "source": [
    "x_train, x_test, y_train, y_test = train_test_split(x, y, test_size=0.2, random_state=42)"
   ]
  },
  {
   "cell_type": "markdown",
   "metadata": {},
   "source": [
    "## Split Numerical and Categorical + Imputation"
   ]
  },
  {
   "cell_type": "code",
   "execution_count": 53,
   "metadata": {},
   "outputs": [],
   "source": [
    "def get_num_ob(x):\n",
    "    x_num = x.select_dtypes(exclude='object')\n",
    "    x_ob = x.select_dtypes(include='object')\n",
    "    return x_num, x_ob"
   ]
  },
  {
   "cell_type": "code",
   "execution_count": 73,
   "metadata": {},
   "outputs": [],
   "source": [
    "def aa(test):\n",
    "    assert (test == 'a') | (test == 'b'), 'can only use a or b'"
   ]
  },
  {
   "cell_type": "code",
   "execution_count": 76,
   "metadata": {},
   "outputs": [
    {
     "ename": "AssertionError",
     "evalue": "can only use a or b",
     "output_type": "error",
     "traceback": [
      "\u001b[1;31m---------------------------------------------------------------------------\u001b[0m",
      "\u001b[1;31mAssertionError\u001b[0m                            Traceback (most recent call last)",
      "\u001b[1;32m<ipython-input-76-f718a06a0e3d>\u001b[0m in \u001b[0;36m<module>\u001b[1;34m\u001b[0m\n\u001b[1;32m----> 1\u001b[1;33m \u001b[0maa\u001b[0m\u001b[1;33m(\u001b[0m\u001b[1;34m'c'\u001b[0m\u001b[1;33m)\u001b[0m\u001b[1;33m\u001b[0m\u001b[1;33m\u001b[0m\u001b[0m\n\u001b[0m",
      "\u001b[1;32m<ipython-input-73-d3743bfe122a>\u001b[0m in \u001b[0;36maa\u001b[1;34m(test)\u001b[0m\n\u001b[0;32m      1\u001b[0m \u001b[1;32mdef\u001b[0m \u001b[0maa\u001b[0m\u001b[1;33m(\u001b[0m\u001b[0mtest\u001b[0m\u001b[1;33m)\u001b[0m\u001b[1;33m:\u001b[0m\u001b[1;33m\u001b[0m\u001b[1;33m\u001b[0m\u001b[0m\n\u001b[1;32m----> 2\u001b[1;33m     \u001b[1;32massert\u001b[0m \u001b[1;33m(\u001b[0m\u001b[0mtest\u001b[0m \u001b[1;33m==\u001b[0m \u001b[1;34m'a'\u001b[0m\u001b[1;33m)\u001b[0m \u001b[1;33m|\u001b[0m \u001b[1;33m(\u001b[0m\u001b[0mtest\u001b[0m \u001b[1;33m==\u001b[0m \u001b[1;34m'b'\u001b[0m\u001b[1;33m)\u001b[0m\u001b[1;33m,\u001b[0m \u001b[1;34m'can only use a or b'\u001b[0m\u001b[1;33m\u001b[0m\u001b[1;33m\u001b[0m\u001b[0m\n\u001b[0m",
      "\u001b[1;31mAssertionError\u001b[0m: can only use a or b"
     ]
    }
   ],
   "source": [
    "aa('c')"
   ]
  },
  {
   "cell_type": "code",
   "execution_count": 80,
   "metadata": {},
   "outputs": [],
   "source": [
    "def imput_fit_transform(x):\n",
    "    imput = SimpleImputer(strategy='median')\n",
    "    x_numeric_imp = pd.DataFrame(imput.fit_transform(x), columns = x.columns, index = x.index)\n",
    "    return imput, x_numeric_imp\n",
    "\n",
    "def imput_transform(x, imput):\n",
    "    x_numeric_imp = pd.DataFrame(imput.transform(x), columns = x.columns, index = x.index)\n",
    "    return x_numeric_imp\n",
    "    "
   ]
  },
  {
   "cell_type": "code",
   "execution_count": 82,
   "metadata": {},
   "outputs": [],
   "source": [
    "x_train_num, x_train_obj = get_num_ob(x_train)\n",
    "imputer, x_train_num_imp = imput_fit_transform(x_train_num)"
   ]
  },
  {
   "cell_type": "code",
   "execution_count": 86,
   "metadata": {},
   "outputs": [
    {
     "name": "stderr",
     "output_type": "stream",
     "text": [
      "C:\\Users\\sintyadi.thong\\AppData\\Local\\Continuum\\anaconda3\\lib\\site-packages\\pandas\\core\\frame.py:4153: SettingWithCopyWarning: \n",
      "A value is trying to be set on a copy of a slice from a DataFrame\n",
      "\n",
      "See the caveats in the documentation: https://pandas.pydata.org/pandas-docs/stable/user_guide/indexing.html#returning-a-view-versus-a-copy\n",
      "  downcast=downcast,\n"
     ]
    }
   ],
   "source": [
    "x_train_obj.fillna('Unknown', inplace=True)\n",
    "## get_dummies\n",
    "x_train_obj_dummy = pd.get_dummies(x_train_obj)"
   ]
  },
  {
   "cell_type": "markdown",
   "metadata": {},
   "source": [
    "## Feature Scaling"
   ]
  },
  {
   "cell_type": "code",
   "execution_count": 87,
   "metadata": {},
   "outputs": [],
   "source": [
    "x_train_concat = pd.concat([x_train_num_imp, x_train_obj_dummy], axis=1)"
   ]
  },
  {
   "cell_type": "code",
   "execution_count": 88,
   "metadata": {},
   "outputs": [],
   "source": [
    "def scaling(x):\n",
    "    scaler = StandardScaler()\n",
    "    x_scaled = pd.DataFrame(scaler.fit_transform(x), columns = x.columns, index = x.index)\n",
    "    return x_scaled, scaler"
   ]
  },
  {
   "cell_type": "code",
   "execution_count": 89,
   "metadata": {},
   "outputs": [],
   "source": [
    "x_train_scaled, scaler = scaling(x_train_concat)"
   ]
  },
  {
   "cell_type": "code",
   "execution_count": 90,
   "metadata": {},
   "outputs": [
    {
     "data": {
      "text/html": [
       "<div>\n",
       "<style scoped>\n",
       "    .dataframe tbody tr th:only-of-type {\n",
       "        vertical-align: middle;\n",
       "    }\n",
       "\n",
       "    .dataframe tbody tr th {\n",
       "        vertical-align: top;\n",
       "    }\n",
       "\n",
       "    .dataframe thead th {\n",
       "        text-align: right;\n",
       "    }\n",
       "</style>\n",
       "<table border=\"1\" class=\"dataframe\">\n",
       "  <thead>\n",
       "    <tr style=\"text-align: right;\">\n",
       "      <th></th>\n",
       "      <th>MSSubClass</th>\n",
       "      <th>LotFrontage</th>\n",
       "      <th>LotArea</th>\n",
       "      <th>OverallQual</th>\n",
       "      <th>OverallCond</th>\n",
       "      <th>YearBuilt</th>\n",
       "      <th>YearRemodAdd</th>\n",
       "      <th>MasVnrArea</th>\n",
       "      <th>BsmtFinSF1</th>\n",
       "      <th>BsmtFinSF2</th>\n",
       "      <th>...</th>\n",
       "      <th>SaleType_ConLw</th>\n",
       "      <th>SaleType_New</th>\n",
       "      <th>SaleType_Oth</th>\n",
       "      <th>SaleType_WD</th>\n",
       "      <th>SaleCondition_Abnorml</th>\n",
       "      <th>SaleCondition_AdjLand</th>\n",
       "      <th>SaleCondition_Alloca</th>\n",
       "      <th>SaleCondition_Family</th>\n",
       "      <th>SaleCondition_Normal</th>\n",
       "      <th>SaleCondition_Partial</th>\n",
       "    </tr>\n",
       "  </thead>\n",
       "  <tbody>\n",
       "    <tr>\n",
       "      <th>254</th>\n",
       "      <td>-0.866764</td>\n",
       "      <td>-0.012468</td>\n",
       "      <td>-0.212896</td>\n",
       "      <td>-0.820445</td>\n",
       "      <td>0.372217</td>\n",
       "      <td>-0.455469</td>\n",
       "      <td>-1.346063</td>\n",
       "      <td>-0.597889</td>\n",
       "      <td>1.037269</td>\n",
       "      <td>-0.285504</td>\n",
       "      <td>...</td>\n",
       "      <td>-0.058621</td>\n",
       "      <td>-0.300948</td>\n",
       "      <td>-0.041416</td>\n",
       "      <td>0.39262</td>\n",
       "      <td>-0.265664</td>\n",
       "      <td>-0.058621</td>\n",
       "      <td>-0.077648</td>\n",
       "      <td>-0.125109</td>\n",
       "      <td>0.46002</td>\n",
       "      <td>-0.302636</td>\n",
       "    </tr>\n",
       "    <tr>\n",
       "      <th>1066</th>\n",
       "      <td>0.074110</td>\n",
       "      <td>-0.502357</td>\n",
       "      <td>-0.265245</td>\n",
       "      <td>-0.088934</td>\n",
       "      <td>1.268609</td>\n",
       "      <td>0.718609</td>\n",
       "      <td>0.439214</td>\n",
       "      <td>-0.597889</td>\n",
       "      <td>-0.971996</td>\n",
       "      <td>-0.285504</td>\n",
       "      <td>...</td>\n",
       "      <td>-0.058621</td>\n",
       "      <td>-0.300948</td>\n",
       "      <td>-0.041416</td>\n",
       "      <td>0.39262</td>\n",
       "      <td>-0.265664</td>\n",
       "      <td>-0.058621</td>\n",
       "      <td>-0.077648</td>\n",
       "      <td>-0.125109</td>\n",
       "      <td>0.46002</td>\n",
       "      <td>-0.302636</td>\n",
       "    </tr>\n",
       "    <tr>\n",
       "      <th>638</th>\n",
       "      <td>-0.631546</td>\n",
       "      <td>-0.146074</td>\n",
       "      <td>-0.177841</td>\n",
       "      <td>-0.820445</td>\n",
       "      <td>1.268609</td>\n",
       "      <td>-1.988293</td>\n",
       "      <td>-1.683818</td>\n",
       "      <td>-0.597889</td>\n",
       "      <td>-0.971996</td>\n",
       "      <td>-0.285504</td>\n",
       "      <td>...</td>\n",
       "      <td>-0.058621</td>\n",
       "      <td>-0.300948</td>\n",
       "      <td>-0.041416</td>\n",
       "      <td>0.39262</td>\n",
       "      <td>-0.265664</td>\n",
       "      <td>-0.058621</td>\n",
       "      <td>-0.077648</td>\n",
       "      <td>-0.125109</td>\n",
       "      <td>0.46002</td>\n",
       "      <td>-0.302636</td>\n",
       "    </tr>\n",
       "    <tr>\n",
       "      <th>799</th>\n",
       "      <td>-0.161109</td>\n",
       "      <td>-0.457822</td>\n",
       "      <td>-0.324474</td>\n",
       "      <td>-0.820445</td>\n",
       "      <td>1.268609</td>\n",
       "      <td>-1.107734</td>\n",
       "      <td>-1.683818</td>\n",
       "      <td>0.861522</td>\n",
       "      <td>0.267995</td>\n",
       "      <td>-0.285504</td>\n",
       "      <td>...</td>\n",
       "      <td>-0.058621</td>\n",
       "      <td>-0.300948</td>\n",
       "      <td>-0.041416</td>\n",
       "      <td>0.39262</td>\n",
       "      <td>-0.265664</td>\n",
       "      <td>-0.058621</td>\n",
       "      <td>-0.077648</td>\n",
       "      <td>-0.125109</td>\n",
       "      <td>0.46002</td>\n",
       "      <td>-0.302636</td>\n",
       "    </tr>\n",
       "    <tr>\n",
       "      <th>380</th>\n",
       "      <td>-0.161109</td>\n",
       "      <td>-0.903175</td>\n",
       "      <td>-0.529035</td>\n",
       "      <td>-0.820445</td>\n",
       "      <td>0.372217</td>\n",
       "      <td>-1.531707</td>\n",
       "      <td>-1.683818</td>\n",
       "      <td>-0.597889</td>\n",
       "      <td>-0.496920</td>\n",
       "      <td>-0.285504</td>\n",
       "      <td>...</td>\n",
       "      <td>-0.058621</td>\n",
       "      <td>-0.300948</td>\n",
       "      <td>-0.041416</td>\n",
       "      <td>0.39262</td>\n",
       "      <td>-0.265664</td>\n",
       "      <td>-0.058621</td>\n",
       "      <td>-0.077648</td>\n",
       "      <td>-0.125109</td>\n",
       "      <td>0.46002</td>\n",
       "      <td>-0.302636</td>\n",
       "    </tr>\n",
       "    <tr>\n",
       "      <th>...</th>\n",
       "      <td>...</td>\n",
       "      <td>...</td>\n",
       "      <td>...</td>\n",
       "      <td>...</td>\n",
       "      <td>...</td>\n",
       "      <td>...</td>\n",
       "      <td>...</td>\n",
       "      <td>...</td>\n",
       "      <td>...</td>\n",
       "      <td>...</td>\n",
       "      <td>...</td>\n",
       "      <td>...</td>\n",
       "      <td>...</td>\n",
       "      <td>...</td>\n",
       "      <td>...</td>\n",
       "      <td>...</td>\n",
       "      <td>...</td>\n",
       "      <td>...</td>\n",
       "      <td>...</td>\n",
       "      <td>...</td>\n",
       "      <td>...</td>\n",
       "    </tr>\n",
       "    <tr>\n",
       "      <th>1095</th>\n",
       "      <td>-0.866764</td>\n",
       "      <td>0.343814</td>\n",
       "      <td>-0.127631</td>\n",
       "      <td>-0.088934</td>\n",
       "      <td>-0.524174</td>\n",
       "      <td>1.142582</td>\n",
       "      <td>1.018222</td>\n",
       "      <td>-0.597889</td>\n",
       "      <td>-0.919694</td>\n",
       "      <td>-0.285504</td>\n",
       "      <td>...</td>\n",
       "      <td>-0.058621</td>\n",
       "      <td>-0.300948</td>\n",
       "      <td>-0.041416</td>\n",
       "      <td>0.39262</td>\n",
       "      <td>-0.265664</td>\n",
       "      <td>-0.058621</td>\n",
       "      <td>-0.077648</td>\n",
       "      <td>-0.125109</td>\n",
       "      <td>0.46002</td>\n",
       "      <td>-0.302636</td>\n",
       "    </tr>\n",
       "    <tr>\n",
       "      <th>1130</th>\n",
       "      <td>-0.161109</td>\n",
       "      <td>-0.235145</td>\n",
       "      <td>-0.268313</td>\n",
       "      <td>-1.551955</td>\n",
       "      <td>-2.316957</td>\n",
       "      <td>-1.401254</td>\n",
       "      <td>-1.683818</td>\n",
       "      <td>-0.597889</td>\n",
       "      <td>0.383495</td>\n",
       "      <td>-0.285504</td>\n",
       "      <td>...</td>\n",
       "      <td>-0.058621</td>\n",
       "      <td>-0.300948</td>\n",
       "      <td>-0.041416</td>\n",
       "      <td>0.39262</td>\n",
       "      <td>-0.265664</td>\n",
       "      <td>-0.058621</td>\n",
       "      <td>-0.077648</td>\n",
       "      <td>-0.125109</td>\n",
       "      <td>0.46002</td>\n",
       "      <td>-0.302636</td>\n",
       "    </tr>\n",
       "    <tr>\n",
       "      <th>1294</th>\n",
       "      <td>-0.866764</td>\n",
       "      <td>-0.457822</td>\n",
       "      <td>-0.234096</td>\n",
       "      <td>-0.820445</td>\n",
       "      <td>1.268609</td>\n",
       "      <td>-0.520696</td>\n",
       "      <td>0.246211</td>\n",
       "      <td>-0.597889</td>\n",
       "      <td>-0.608062</td>\n",
       "      <td>-0.285504</td>\n",
       "      <td>...</td>\n",
       "      <td>-0.058621</td>\n",
       "      <td>-0.300948</td>\n",
       "      <td>-0.041416</td>\n",
       "      <td>0.39262</td>\n",
       "      <td>-0.265664</td>\n",
       "      <td>-0.058621</td>\n",
       "      <td>-0.077648</td>\n",
       "      <td>-0.125109</td>\n",
       "      <td>0.46002</td>\n",
       "      <td>-0.302636</td>\n",
       "    </tr>\n",
       "    <tr>\n",
       "      <th>860</th>\n",
       "      <td>-0.161109</td>\n",
       "      <td>-0.680498</td>\n",
       "      <td>-0.283376</td>\n",
       "      <td>0.642577</td>\n",
       "      <td>2.165000</td>\n",
       "      <td>-1.727387</td>\n",
       "      <td>0.632217</td>\n",
       "      <td>-0.597889</td>\n",
       "      <td>-0.971996</td>\n",
       "      <td>-0.285504</td>\n",
       "      <td>...</td>\n",
       "      <td>-0.058621</td>\n",
       "      <td>-0.300948</td>\n",
       "      <td>-0.041416</td>\n",
       "      <td>0.39262</td>\n",
       "      <td>-0.265664</td>\n",
       "      <td>-0.058621</td>\n",
       "      <td>-0.077648</td>\n",
       "      <td>-0.125109</td>\n",
       "      <td>0.46002</td>\n",
       "      <td>-0.302636</td>\n",
       "    </tr>\n",
       "    <tr>\n",
       "      <th>1126</th>\n",
       "      <td>1.485421</td>\n",
       "      <td>-0.769569</td>\n",
       "      <td>-0.651399</td>\n",
       "      <td>0.642577</td>\n",
       "      <td>-0.524174</td>\n",
       "      <td>1.175195</td>\n",
       "      <td>1.066473</td>\n",
       "      <td>0.154982</td>\n",
       "      <td>-0.971996</td>\n",
       "      <td>-0.285504</td>\n",
       "      <td>...</td>\n",
       "      <td>-0.058621</td>\n",
       "      <td>-0.300948</td>\n",
       "      <td>-0.041416</td>\n",
       "      <td>0.39262</td>\n",
       "      <td>-0.265664</td>\n",
       "      <td>-0.058621</td>\n",
       "      <td>-0.077648</td>\n",
       "      <td>-0.125109</td>\n",
       "      <td>0.46002</td>\n",
       "      <td>-0.302636</td>\n",
       "    </tr>\n",
       "  </tbody>\n",
       "</table>\n",
       "<p>1168 rows × 285 columns</p>\n",
       "</div>"
      ],
      "text/plain": [
       "      MSSubClass  LotFrontage   LotArea  OverallQual  OverallCond  YearBuilt  \\\n",
       "254    -0.866764    -0.012468 -0.212896    -0.820445     0.372217  -0.455469   \n",
       "1066    0.074110    -0.502357 -0.265245    -0.088934     1.268609   0.718609   \n",
       "638    -0.631546    -0.146074 -0.177841    -0.820445     1.268609  -1.988293   \n",
       "799    -0.161109    -0.457822 -0.324474    -0.820445     1.268609  -1.107734   \n",
       "380    -0.161109    -0.903175 -0.529035    -0.820445     0.372217  -1.531707   \n",
       "...          ...          ...       ...          ...          ...        ...   \n",
       "1095   -0.866764     0.343814 -0.127631    -0.088934    -0.524174   1.142582   \n",
       "1130   -0.161109    -0.235145 -0.268313    -1.551955    -2.316957  -1.401254   \n",
       "1294   -0.866764    -0.457822 -0.234096    -0.820445     1.268609  -0.520696   \n",
       "860    -0.161109    -0.680498 -0.283376     0.642577     2.165000  -1.727387   \n",
       "1126    1.485421    -0.769569 -0.651399     0.642577    -0.524174   1.175195   \n",
       "\n",
       "      YearRemodAdd  MasVnrArea  BsmtFinSF1  BsmtFinSF2  ...  SaleType_ConLw  \\\n",
       "254      -1.346063   -0.597889    1.037269   -0.285504  ...       -0.058621   \n",
       "1066      0.439214   -0.597889   -0.971996   -0.285504  ...       -0.058621   \n",
       "638      -1.683818   -0.597889   -0.971996   -0.285504  ...       -0.058621   \n",
       "799      -1.683818    0.861522    0.267995   -0.285504  ...       -0.058621   \n",
       "380      -1.683818   -0.597889   -0.496920   -0.285504  ...       -0.058621   \n",
       "...            ...         ...         ...         ...  ...             ...   \n",
       "1095      1.018222   -0.597889   -0.919694   -0.285504  ...       -0.058621   \n",
       "1130     -1.683818   -0.597889    0.383495   -0.285504  ...       -0.058621   \n",
       "1294      0.246211   -0.597889   -0.608062   -0.285504  ...       -0.058621   \n",
       "860       0.632217   -0.597889   -0.971996   -0.285504  ...       -0.058621   \n",
       "1126      1.066473    0.154982   -0.971996   -0.285504  ...       -0.058621   \n",
       "\n",
       "      SaleType_New  SaleType_Oth  SaleType_WD  SaleCondition_Abnorml  \\\n",
       "254      -0.300948     -0.041416      0.39262              -0.265664   \n",
       "1066     -0.300948     -0.041416      0.39262              -0.265664   \n",
       "638      -0.300948     -0.041416      0.39262              -0.265664   \n",
       "799      -0.300948     -0.041416      0.39262              -0.265664   \n",
       "380      -0.300948     -0.041416      0.39262              -0.265664   \n",
       "...            ...           ...          ...                    ...   \n",
       "1095     -0.300948     -0.041416      0.39262              -0.265664   \n",
       "1130     -0.300948     -0.041416      0.39262              -0.265664   \n",
       "1294     -0.300948     -0.041416      0.39262              -0.265664   \n",
       "860      -0.300948     -0.041416      0.39262              -0.265664   \n",
       "1126     -0.300948     -0.041416      0.39262              -0.265664   \n",
       "\n",
       "      SaleCondition_AdjLand  SaleCondition_Alloca  SaleCondition_Family  \\\n",
       "254               -0.058621             -0.077648             -0.125109   \n",
       "1066              -0.058621             -0.077648             -0.125109   \n",
       "638               -0.058621             -0.077648             -0.125109   \n",
       "799               -0.058621             -0.077648             -0.125109   \n",
       "380               -0.058621             -0.077648             -0.125109   \n",
       "...                     ...                   ...                   ...   \n",
       "1095              -0.058621             -0.077648             -0.125109   \n",
       "1130              -0.058621             -0.077648             -0.125109   \n",
       "1294              -0.058621             -0.077648             -0.125109   \n",
       "860               -0.058621             -0.077648             -0.125109   \n",
       "1126              -0.058621             -0.077648             -0.125109   \n",
       "\n",
       "      SaleCondition_Normal  SaleCondition_Partial  \n",
       "254                0.46002              -0.302636  \n",
       "1066               0.46002              -0.302636  \n",
       "638                0.46002              -0.302636  \n",
       "799                0.46002              -0.302636  \n",
       "380                0.46002              -0.302636  \n",
       "...                    ...                    ...  \n",
       "1095               0.46002              -0.302636  \n",
       "1130               0.46002              -0.302636  \n",
       "1294               0.46002              -0.302636  \n",
       "860                0.46002              -0.302636  \n",
       "1126               0.46002              -0.302636  \n",
       "\n",
       "[1168 rows x 285 columns]"
      ]
     },
     "execution_count": 90,
     "metadata": {},
     "output_type": "execute_result"
    }
   ],
   "source": [
    "x_train_scaled"
   ]
  },
  {
   "cell_type": "markdown",
   "metadata": {},
   "source": [
    "# Machine Learning"
   ]
  },
  {
   "cell_type": "code",
   "execution_count": 99,
   "metadata": {},
   "outputs": [],
   "source": [
    "linreg = LinearRegression()"
   ]
  },
  {
   "cell_type": "code",
   "execution_count": 100,
   "metadata": {},
   "outputs": [
    {
     "name": "stdout",
     "output_type": "stream",
     "text": [
      "[-4.39238428e+17 -1.10237187e+17 -7.39485921e+16 -7.43115957e+16\n",
      " -3.60139654e+17]\n",
      "-2.1157509150395782e+17\n"
     ]
    }
   ],
   "source": [
    "store = cross_val_score(linreg, x_train_scaled, y_train, cv=5, scoring= 'neg_root_mean_squared_error', n_jobs=-1)\n",
    "print(store)\n",
    "print(np.mean(store))"
   ]
  },
  {
   "cell_type": "code",
   "execution_count": 101,
   "metadata": {},
   "outputs": [
    {
     "data": {
      "text/plain": [
       "181441.5419520548"
      ]
     },
     "execution_count": 101,
     "metadata": {},
     "output_type": "execute_result"
    }
   ],
   "source": [
    "np.mean(y_train)"
   ]
  },
  {
   "cell_type": "markdown",
   "metadata": {},
   "source": [
    "### Using Decision Tree"
   ]
  },
  {
   "cell_type": "code",
   "execution_count": 103,
   "metadata": {},
   "outputs": [],
   "source": [
    "from sklearn.tree import DecisionTreeRegressor"
   ]
  },
  {
   "cell_type": "code",
   "execution_count": 104,
   "metadata": {},
   "outputs": [
    {
     "name": "stdout",
     "output_type": "stream",
     "text": [
      "[-42618.3681104  -49996.86502099 -49463.74760134 -37245.23815846\n",
      " -37681.94326535]\n",
      "-43401.2324313091\n"
     ]
    }
   ],
   "source": [
    "dectree = DecisionTreeRegressor(random_state=108)\n",
    "store = cross_val_score(dectree, x_train_scaled, y_train, cv=5, scoring= 'neg_root_mean_squared_error', n_jobs=-1)\n",
    "print(store)\n",
    "print(np.mean(store))"
   ]
  },
  {
   "cell_type": "markdown",
   "metadata": {},
   "source": [
    "### Using Random Forest"
   ]
  },
  {
   "cell_type": "code",
   "execution_count": 106,
   "metadata": {},
   "outputs": [],
   "source": [
    "from sklearn.ensemble import RandomForestRegressor"
   ]
  },
  {
   "cell_type": "code",
   "execution_count": 107,
   "metadata": {},
   "outputs": [
    {
     "name": "stdout",
     "output_type": "stream",
     "text": [
      "[-30998.97026673 -36527.86150425 -36445.90655497 -25839.7145365\n",
      " -25347.24546727]\n",
      "-31031.93966594187\n"
     ]
    }
   ],
   "source": [
    "rfr = RandomForestRegressor(random_state=108)\n",
    "store = cross_val_score(rfr, x_train_scaled, y_train, cv=5, scoring= 'neg_root_mean_squared_error', n_jobs=-1)\n",
    "print(store)\n",
    "print(np.mean(store))"
   ]
  },
  {
   "cell_type": "markdown",
   "metadata": {},
   "source": [
    "### Using Gradient Boosting"
   ]
  },
  {
   "cell_type": "code",
   "execution_count": 108,
   "metadata": {},
   "outputs": [],
   "source": [
    "from sklearn.ensemble import GradientBoostingRegressor"
   ]
  },
  {
   "cell_type": "code",
   "execution_count": 109,
   "metadata": {},
   "outputs": [
    {
     "name": "stdout",
     "output_type": "stream",
     "text": [
      "[-31282.55471499 -34463.63906243 -30559.06454458 -25468.77508198\n",
      " -23562.32033086]\n",
      "-29067.270746969523\n"
     ]
    }
   ],
   "source": [
    "gbr = GradientBoostingRegressor(random_state=108)\n",
    "store = cross_val_score(gbr, x_train_scaled, y_train, cv=5, scoring= 'neg_root_mean_squared_error', n_jobs=-1)\n",
    "print(store)\n",
    "print(np.mean(store))"
   ]
  },
  {
   "cell_type": "code",
   "execution_count": null,
   "metadata": {},
   "outputs": [],
   "source": []
  }
 ],
 "metadata": {
  "kernelspec": {
   "display_name": "Python 3",
   "language": "python",
   "name": "python3"
  },
  "language_info": {
   "codemirror_mode": {
    "name": "ipython",
    "version": 3
   },
   "file_extension": ".py",
   "mimetype": "text/x-python",
   "name": "python",
   "nbconvert_exporter": "python",
   "pygments_lexer": "ipython3",
   "version": "3.7.4"
  }
 },
 "nbformat": 4,
 "nbformat_minor": 2
}
