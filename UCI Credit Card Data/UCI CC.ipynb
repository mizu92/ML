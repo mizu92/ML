{
 "cells": [
  {
   "cell_type": "code",
   "execution_count": 322,
   "metadata": {},
   "outputs": [],
   "source": [
    "import pandas as pd\n",
    "import numpy as np\n",
    "from sklearn.model_selection import train_test_split\n",
    "from sklearn.metrics import accuracy_score, confusion_matrix\n",
    "\n",
    "from collections import defaultdict\n",
    "from imblearn.over_sampling import SMOTE\n",
    "from sklearn.tree import DecisionTreeClassifier\n",
    "from sklearn.ensemble import RandomForestClassifier, GradientBoostingClassifier\n",
    "from sklearn.impute import SimpleImputer\n",
    "from sklearn.metrics import roc_auc_score\n",
    "from sklearn.model_selection import train_test_split\n",
    "from sklearn.model_selection import GridSearchCV, RandomizedSearchCV, KFold, cross_val_score\n",
    "from sklearn.feature_selection import SelectFromModel\n",
    "from sklearn.preprocessing import LabelEncoder\n",
    "from imblearn.under_sampling import RandomUnderSampler, TomekLinks\n",
    "from scipy.stats import chisquare, chi2_contingency\n",
    "import scikitplot as skplt\n",
    "import matplotlib.pyplot as plt\n",
    "%matplotlib inline"
   ]
  },
  {
   "cell_type": "code",
   "execution_count": 3,
   "metadata": {},
   "outputs": [],
   "source": [
    "data = pd.read_csv('UCI_Credit_Card.csv')"
   ]
  },
  {
   "cell_type": "code",
   "execution_count": 8,
   "metadata": {},
   "outputs": [],
   "source": [
    "data.drop_duplicates(inplace=True)"
   ]
  },
  {
   "cell_type": "markdown",
   "metadata": {},
   "source": [
    "# Feature Engineering"
   ]
  },
  {
   "cell_type": "code",
   "execution_count": 10,
   "metadata": {},
   "outputs": [
    {
     "data": {
      "text/plain": [
       "Index(['ID', 'LIMIT_BAL', 'SEX', 'EDUCATION', 'MARRIAGE', 'AGE', 'PAY_0',\n",
       "       'PAY_2', 'PAY_3', 'PAY_4', 'PAY_5', 'PAY_6', 'BILL_AMT1', 'BILL_AMT2',\n",
       "       'BILL_AMT3', 'BILL_AMT4', 'BILL_AMT5', 'BILL_AMT6', 'PAY_AMT1',\n",
       "       'PAY_AMT2', 'PAY_AMT3', 'PAY_AMT4', 'PAY_AMT5', 'PAY_AMT6',\n",
       "       'default.payment.next.month'],\n",
       "      dtype='object')"
      ]
     },
     "execution_count": 10,
     "metadata": {},
     "output_type": "execute_result"
    }
   ],
   "source": [
    "data.columns"
   ]
  },
  {
   "cell_type": "markdown",
   "metadata": {},
   "source": [
    "We will split the features to demographics, pay_status, billing, payment amount and the y itself to be able to make a more comprehensive feature engineering."
   ]
  },
  {
   "cell_type": "code",
   "execution_count": 11,
   "metadata": {},
   "outputs": [
    {
     "data": {
      "text/plain": [
       "30000"
      ]
     },
     "execution_count": 11,
     "metadata": {},
     "output_type": "execute_result"
    }
   ],
   "source": [
    "data['ID'].nunique()"
   ]
  },
  {
   "cell_type": "code",
   "execution_count": 12,
   "metadata": {},
   "outputs": [],
   "source": [
    "data.set_index('ID', inplace=True)"
   ]
  },
  {
   "cell_type": "code",
   "execution_count": 90,
   "metadata": {},
   "outputs": [],
   "source": [
    "y = data['default.payment.next.month']\n",
    "demog = data[['LIMIT_BAL', 'SEX', 'EDUCATION', 'MARRIAGE', 'AGE']]\n",
    "payment_amt = data[[k for k in data if k.startswith('PAY_AMT')]]\n",
    "bill_data = data[[k for k in data if k.startswith('BILL')]]\n",
    "pay_status = data[[k for k in data if k not in (list(demog) + list(payment_amt) + list(bill_data) + ['default.payment.next.month'])]]"
   ]
  },
  {
   "cell_type": "code",
   "execution_count": 91,
   "metadata": {},
   "outputs": [
    {
     "data": {
      "text/plain": [
       "(24, 6, 6, 6, 5)"
      ]
     },
     "execution_count": 91,
     "metadata": {},
     "output_type": "execute_result"
    }
   ],
   "source": [
    "data.shape[1], payment_amt.shape[1], bill_data.shape[1], pay_status.shape[1], demog.shape[1]"
   ]
  },
  {
   "cell_type": "markdown",
   "metadata": {},
   "source": [
    "### Demography"
   ]
  },
  {
   "cell_type": "markdown",
   "metadata": {},
   "source": [
    "For demography, we are not doing any feature engineering yet"
   ]
  },
  {
   "cell_type": "code",
   "execution_count": 92,
   "metadata": {},
   "outputs": [
    {
     "data": {
      "text/html": [
       "<div>\n",
       "<style scoped>\n",
       "    .dataframe tbody tr th:only-of-type {\n",
       "        vertical-align: middle;\n",
       "    }\n",
       "\n",
       "    .dataframe tbody tr th {\n",
       "        vertical-align: top;\n",
       "    }\n",
       "\n",
       "    .dataframe thead th {\n",
       "        text-align: right;\n",
       "    }\n",
       "</style>\n",
       "<table border=\"1\" class=\"dataframe\">\n",
       "  <thead>\n",
       "    <tr style=\"text-align: right;\">\n",
       "      <th></th>\n",
       "      <th>LIMIT_BAL</th>\n",
       "      <th>SEX</th>\n",
       "      <th>EDUCATION</th>\n",
       "      <th>MARRIAGE</th>\n",
       "      <th>AGE</th>\n",
       "    </tr>\n",
       "    <tr>\n",
       "      <th>ID</th>\n",
       "      <th></th>\n",
       "      <th></th>\n",
       "      <th></th>\n",
       "      <th></th>\n",
       "      <th></th>\n",
       "    </tr>\n",
       "  </thead>\n",
       "  <tbody>\n",
       "    <tr>\n",
       "      <th>1</th>\n",
       "      <td>20000.0</td>\n",
       "      <td>2</td>\n",
       "      <td>2</td>\n",
       "      <td>1</td>\n",
       "      <td>24</td>\n",
       "    </tr>\n",
       "    <tr>\n",
       "      <th>2</th>\n",
       "      <td>120000.0</td>\n",
       "      <td>2</td>\n",
       "      <td>2</td>\n",
       "      <td>2</td>\n",
       "      <td>26</td>\n",
       "    </tr>\n",
       "    <tr>\n",
       "      <th>3</th>\n",
       "      <td>90000.0</td>\n",
       "      <td>2</td>\n",
       "      <td>2</td>\n",
       "      <td>2</td>\n",
       "      <td>34</td>\n",
       "    </tr>\n",
       "    <tr>\n",
       "      <th>4</th>\n",
       "      <td>50000.0</td>\n",
       "      <td>2</td>\n",
       "      <td>2</td>\n",
       "      <td>1</td>\n",
       "      <td>37</td>\n",
       "    </tr>\n",
       "    <tr>\n",
       "      <th>5</th>\n",
       "      <td>50000.0</td>\n",
       "      <td>1</td>\n",
       "      <td>2</td>\n",
       "      <td>1</td>\n",
       "      <td>57</td>\n",
       "    </tr>\n",
       "  </tbody>\n",
       "</table>\n",
       "</div>"
      ],
      "text/plain": [
       "    LIMIT_BAL  SEX  EDUCATION  MARRIAGE  AGE\n",
       "ID                                          \n",
       "1     20000.0    2          2         1   24\n",
       "2    120000.0    2          2         2   26\n",
       "3     90000.0    2          2         2   34\n",
       "4     50000.0    2          2         1   37\n",
       "5     50000.0    1          2         1   57"
      ]
     },
     "execution_count": 92,
     "metadata": {},
     "output_type": "execute_result"
    }
   ],
   "source": [
    "demog.head()"
   ]
  },
  {
   "cell_type": "markdown",
   "metadata": {},
   "source": [
    "### Payment Status"
   ]
  },
  {
   "cell_type": "code",
   "execution_count": 93,
   "metadata": {},
   "outputs": [
    {
     "data": {
      "text/html": [
       "<div>\n",
       "<style scoped>\n",
       "    .dataframe tbody tr th:only-of-type {\n",
       "        vertical-align: middle;\n",
       "    }\n",
       "\n",
       "    .dataframe tbody tr th {\n",
       "        vertical-align: top;\n",
       "    }\n",
       "\n",
       "    .dataframe thead th {\n",
       "        text-align: right;\n",
       "    }\n",
       "</style>\n",
       "<table border=\"1\" class=\"dataframe\">\n",
       "  <thead>\n",
       "    <tr style=\"text-align: right;\">\n",
       "      <th></th>\n",
       "      <th>PAY_0</th>\n",
       "      <th>PAY_2</th>\n",
       "      <th>PAY_3</th>\n",
       "      <th>PAY_4</th>\n",
       "      <th>PAY_5</th>\n",
       "      <th>PAY_6</th>\n",
       "    </tr>\n",
       "    <tr>\n",
       "      <th>ID</th>\n",
       "      <th></th>\n",
       "      <th></th>\n",
       "      <th></th>\n",
       "      <th></th>\n",
       "      <th></th>\n",
       "      <th></th>\n",
       "    </tr>\n",
       "  </thead>\n",
       "  <tbody>\n",
       "    <tr>\n",
       "      <th>1</th>\n",
       "      <td>2</td>\n",
       "      <td>2</td>\n",
       "      <td>-1</td>\n",
       "      <td>-1</td>\n",
       "      <td>-2</td>\n",
       "      <td>-2</td>\n",
       "    </tr>\n",
       "    <tr>\n",
       "      <th>2</th>\n",
       "      <td>-1</td>\n",
       "      <td>2</td>\n",
       "      <td>0</td>\n",
       "      <td>0</td>\n",
       "      <td>0</td>\n",
       "      <td>2</td>\n",
       "    </tr>\n",
       "    <tr>\n",
       "      <th>3</th>\n",
       "      <td>0</td>\n",
       "      <td>0</td>\n",
       "      <td>0</td>\n",
       "      <td>0</td>\n",
       "      <td>0</td>\n",
       "      <td>0</td>\n",
       "    </tr>\n",
       "    <tr>\n",
       "      <th>4</th>\n",
       "      <td>0</td>\n",
       "      <td>0</td>\n",
       "      <td>0</td>\n",
       "      <td>0</td>\n",
       "      <td>0</td>\n",
       "      <td>0</td>\n",
       "    </tr>\n",
       "    <tr>\n",
       "      <th>5</th>\n",
       "      <td>-1</td>\n",
       "      <td>0</td>\n",
       "      <td>-1</td>\n",
       "      <td>0</td>\n",
       "      <td>0</td>\n",
       "      <td>0</td>\n",
       "    </tr>\n",
       "  </tbody>\n",
       "</table>\n",
       "</div>"
      ],
      "text/plain": [
       "    PAY_0  PAY_2  PAY_3  PAY_4  PAY_5  PAY_6\n",
       "ID                                          \n",
       "1       2      2     -1     -1     -2     -2\n",
       "2      -1      2      0      0      0      2\n",
       "3       0      0      0      0      0      0\n",
       "4       0      0      0      0      0      0\n",
       "5      -1      0     -1      0      0      0"
      ]
     },
     "execution_count": 93,
     "metadata": {},
     "output_type": "execute_result"
    }
   ],
   "source": [
    "pay_status.head()"
   ]
  },
  {
   "cell_type": "markdown",
   "metadata": {},
   "source": [
    "Based on the information provided, payment status is a nominal/categorical data. We will then treat them accordingly.<br>\n",
    "PAY_0: Repayment status in September, 2005 (-1=pay duly, 1=payment delay for one month, 2=payment delay for two months, … 8=payment delay for eight months, 9=payment delay for nine months and above)<br>\n",
    "PAY_2: Repayment status in August, 2005 (scale same as above)<br>\n",
    "PAY_3: Repayment status in July, 2005 (scale same as above)<br>\n",
    "PAY_4: Repayment status in June, 2005 (scale same as above)<br>\n",
    "PAY_5: Repayment status in May, 2005 (scale same as above)<br>\n",
    "PAY_6: Repayment status in April, 2005 (scale same as above)\n",
    "\n",
    "Additionally from https://www.kaggle.com/uciml/default-of-credit-card-clients-dataset/discussion/71771#423791 , scale -2 and 0 means the customer owes nothing to the bank, hence payment is not needed."
   ]
  },
  {
   "cell_type": "code",
   "execution_count": 94,
   "metadata": {},
   "outputs": [
    {
     "data": {
      "text/html": [
       "<div>\n",
       "<style scoped>\n",
       "    .dataframe tbody tr th:only-of-type {\n",
       "        vertical-align: middle;\n",
       "    }\n",
       "\n",
       "    .dataframe tbody tr th {\n",
       "        vertical-align: top;\n",
       "    }\n",
       "\n",
       "    .dataframe thead th {\n",
       "        text-align: right;\n",
       "    }\n",
       "</style>\n",
       "<table border=\"1\" class=\"dataframe\">\n",
       "  <thead>\n",
       "    <tr style=\"text-align: right;\">\n",
       "      <th></th>\n",
       "      <th>PAY_0</th>\n",
       "      <th>PAY_2</th>\n",
       "      <th>PAY_3</th>\n",
       "      <th>PAY_4</th>\n",
       "      <th>PAY_5</th>\n",
       "      <th>PAY_6</th>\n",
       "    </tr>\n",
       "    <tr>\n",
       "      <th>ID</th>\n",
       "      <th></th>\n",
       "      <th></th>\n",
       "      <th></th>\n",
       "      <th></th>\n",
       "      <th></th>\n",
       "      <th></th>\n",
       "    </tr>\n",
       "  </thead>\n",
       "  <tbody>\n",
       "    <tr>\n",
       "      <th>650</th>\n",
       "      <td>8</td>\n",
       "      <td>7</td>\n",
       "      <td>6</td>\n",
       "      <td>5</td>\n",
       "      <td>4</td>\n",
       "      <td>3</td>\n",
       "    </tr>\n",
       "    <tr>\n",
       "      <th>750</th>\n",
       "      <td>8</td>\n",
       "      <td>7</td>\n",
       "      <td>6</td>\n",
       "      <td>5</td>\n",
       "      <td>4</td>\n",
       "      <td>3</td>\n",
       "    </tr>\n",
       "    <tr>\n",
       "      <th>832</th>\n",
       "      <td>8</td>\n",
       "      <td>7</td>\n",
       "      <td>6</td>\n",
       "      <td>5</td>\n",
       "      <td>4</td>\n",
       "      <td>3</td>\n",
       "    </tr>\n",
       "    <tr>\n",
       "      <th>982</th>\n",
       "      <td>8</td>\n",
       "      <td>7</td>\n",
       "      <td>6</td>\n",
       "      <td>5</td>\n",
       "      <td>4</td>\n",
       "      <td>3</td>\n",
       "    </tr>\n",
       "    <tr>\n",
       "      <th>2363</th>\n",
       "      <td>8</td>\n",
       "      <td>7</td>\n",
       "      <td>6</td>\n",
       "      <td>5</td>\n",
       "      <td>4</td>\n",
       "      <td>3</td>\n",
       "    </tr>\n",
       "    <tr>\n",
       "      <th>2917</th>\n",
       "      <td>8</td>\n",
       "      <td>7</td>\n",
       "      <td>6</td>\n",
       "      <td>5</td>\n",
       "      <td>4</td>\n",
       "      <td>3</td>\n",
       "    </tr>\n",
       "    <tr>\n",
       "      <th>4337</th>\n",
       "      <td>8</td>\n",
       "      <td>7</td>\n",
       "      <td>6</td>\n",
       "      <td>5</td>\n",
       "      <td>4</td>\n",
       "      <td>3</td>\n",
       "    </tr>\n",
       "    <tr>\n",
       "      <th>4388</th>\n",
       "      <td>8</td>\n",
       "      <td>7</td>\n",
       "      <td>6</td>\n",
       "      <td>5</td>\n",
       "      <td>4</td>\n",
       "      <td>3</td>\n",
       "    </tr>\n",
       "    <tr>\n",
       "      <th>4445</th>\n",
       "      <td>8</td>\n",
       "      <td>7</td>\n",
       "      <td>6</td>\n",
       "      <td>5</td>\n",
       "      <td>4</td>\n",
       "      <td>3</td>\n",
       "    </tr>\n",
       "    <tr>\n",
       "      <th>6754</th>\n",
       "      <td>8</td>\n",
       "      <td>7</td>\n",
       "      <td>6</td>\n",
       "      <td>5</td>\n",
       "      <td>4</td>\n",
       "      <td>3</td>\n",
       "    </tr>\n",
       "    <tr>\n",
       "      <th>8998</th>\n",
       "      <td>8</td>\n",
       "      <td>7</td>\n",
       "      <td>6</td>\n",
       "      <td>5</td>\n",
       "      <td>4</td>\n",
       "      <td>3</td>\n",
       "    </tr>\n",
       "    <tr>\n",
       "      <th>9980</th>\n",
       "      <td>8</td>\n",
       "      <td>7</td>\n",
       "      <td>6</td>\n",
       "      <td>5</td>\n",
       "      <td>4</td>\n",
       "      <td>3</td>\n",
       "    </tr>\n",
       "    <tr>\n",
       "      <th>11555</th>\n",
       "      <td>8</td>\n",
       "      <td>7</td>\n",
       "      <td>6</td>\n",
       "      <td>5</td>\n",
       "      <td>4</td>\n",
       "      <td>3</td>\n",
       "    </tr>\n",
       "    <tr>\n",
       "      <th>13262</th>\n",
       "      <td>8</td>\n",
       "      <td>7</td>\n",
       "      <td>6</td>\n",
       "      <td>5</td>\n",
       "      <td>4</td>\n",
       "      <td>3</td>\n",
       "    </tr>\n",
       "    <tr>\n",
       "      <th>13636</th>\n",
       "      <td>8</td>\n",
       "      <td>7</td>\n",
       "      <td>6</td>\n",
       "      <td>5</td>\n",
       "      <td>4</td>\n",
       "      <td>3</td>\n",
       "    </tr>\n",
       "    <tr>\n",
       "      <th>13713</th>\n",
       "      <td>8</td>\n",
       "      <td>7</td>\n",
       "      <td>6</td>\n",
       "      <td>5</td>\n",
       "      <td>4</td>\n",
       "      <td>3</td>\n",
       "    </tr>\n",
       "    <tr>\n",
       "      <th>18868</th>\n",
       "      <td>8</td>\n",
       "      <td>7</td>\n",
       "      <td>6</td>\n",
       "      <td>5</td>\n",
       "      <td>4</td>\n",
       "      <td>3</td>\n",
       "    </tr>\n",
       "    <tr>\n",
       "      <th>23040</th>\n",
       "      <td>8</td>\n",
       "      <td>7</td>\n",
       "      <td>6</td>\n",
       "      <td>5</td>\n",
       "      <td>4</td>\n",
       "      <td>3</td>\n",
       "    </tr>\n",
       "    <tr>\n",
       "      <th>25870</th>\n",
       "      <td>8</td>\n",
       "      <td>7</td>\n",
       "      <td>6</td>\n",
       "      <td>5</td>\n",
       "      <td>4</td>\n",
       "      <td>3</td>\n",
       "    </tr>\n",
       "  </tbody>\n",
       "</table>\n",
       "</div>"
      ],
      "text/plain": [
       "       PAY_0  PAY_2  PAY_3  PAY_4  PAY_5  PAY_6\n",
       "ID                                             \n",
       "650        8      7      6      5      4      3\n",
       "750        8      7      6      5      4      3\n",
       "832        8      7      6      5      4      3\n",
       "982        8      7      6      5      4      3\n",
       "2363       8      7      6      5      4      3\n",
       "2917       8      7      6      5      4      3\n",
       "4337       8      7      6      5      4      3\n",
       "4388       8      7      6      5      4      3\n",
       "4445       8      7      6      5      4      3\n",
       "6754       8      7      6      5      4      3\n",
       "8998       8      7      6      5      4      3\n",
       "9980       8      7      6      5      4      3\n",
       "11555      8      7      6      5      4      3\n",
       "13262      8      7      6      5      4      3\n",
       "13636      8      7      6      5      4      3\n",
       "13713      8      7      6      5      4      3\n",
       "18868      8      7      6      5      4      3\n",
       "23040      8      7      6      5      4      3\n",
       "25870      8      7      6      5      4      3"
      ]
     },
     "execution_count": 94,
     "metadata": {},
     "output_type": "execute_result"
    }
   ],
   "source": [
    "pay_status[pay_status['PAY_0']==8]"
   ]
  },
  {
   "cell_type": "markdown",
   "metadata": {},
   "source": [
    "In a short glance, the data seems to be valid, whereas the number decreases. No occurence that 2 columns have same number (which will be a data error if it occured)"
   ]
  },
  {
   "cell_type": "code",
   "execution_count": 95,
   "metadata": {},
   "outputs": [
    {
     "data": {
      "text/html": [
       "<div>\n",
       "<style scoped>\n",
       "    .dataframe tbody tr th:only-of-type {\n",
       "        vertical-align: middle;\n",
       "    }\n",
       "\n",
       "    .dataframe tbody tr th {\n",
       "        vertical-align: top;\n",
       "    }\n",
       "\n",
       "    .dataframe thead th {\n",
       "        text-align: right;\n",
       "    }\n",
       "</style>\n",
       "<table border=\"1\" class=\"dataframe\">\n",
       "  <thead>\n",
       "    <tr style=\"text-align: right;\">\n",
       "      <th></th>\n",
       "      <th>PAY_0</th>\n",
       "      <th>PAY_2</th>\n",
       "      <th>PAY_3</th>\n",
       "      <th>PAY_4</th>\n",
       "      <th>PAY_5</th>\n",
       "      <th>PAY_6</th>\n",
       "    </tr>\n",
       "  </thead>\n",
       "  <tbody>\n",
       "    <tr>\n",
       "      <th>count</th>\n",
       "      <td>30000.000000</td>\n",
       "      <td>30000.000000</td>\n",
       "      <td>30000.000000</td>\n",
       "      <td>30000.000000</td>\n",
       "      <td>30000.000000</td>\n",
       "      <td>30000.000000</td>\n",
       "    </tr>\n",
       "    <tr>\n",
       "      <th>mean</th>\n",
       "      <td>-0.016700</td>\n",
       "      <td>-0.133767</td>\n",
       "      <td>-0.166200</td>\n",
       "      <td>-0.220667</td>\n",
       "      <td>-0.266200</td>\n",
       "      <td>-0.291100</td>\n",
       "    </tr>\n",
       "    <tr>\n",
       "      <th>std</th>\n",
       "      <td>1.123802</td>\n",
       "      <td>1.197186</td>\n",
       "      <td>1.196868</td>\n",
       "      <td>1.169139</td>\n",
       "      <td>1.133187</td>\n",
       "      <td>1.149988</td>\n",
       "    </tr>\n",
       "    <tr>\n",
       "      <th>min</th>\n",
       "      <td>-2.000000</td>\n",
       "      <td>-2.000000</td>\n",
       "      <td>-2.000000</td>\n",
       "      <td>-2.000000</td>\n",
       "      <td>-2.000000</td>\n",
       "      <td>-2.000000</td>\n",
       "    </tr>\n",
       "    <tr>\n",
       "      <th>25%</th>\n",
       "      <td>-1.000000</td>\n",
       "      <td>-1.000000</td>\n",
       "      <td>-1.000000</td>\n",
       "      <td>-1.000000</td>\n",
       "      <td>-1.000000</td>\n",
       "      <td>-1.000000</td>\n",
       "    </tr>\n",
       "    <tr>\n",
       "      <th>50%</th>\n",
       "      <td>0.000000</td>\n",
       "      <td>0.000000</td>\n",
       "      <td>0.000000</td>\n",
       "      <td>0.000000</td>\n",
       "      <td>0.000000</td>\n",
       "      <td>0.000000</td>\n",
       "    </tr>\n",
       "    <tr>\n",
       "      <th>75%</th>\n",
       "      <td>0.000000</td>\n",
       "      <td>0.000000</td>\n",
       "      <td>0.000000</td>\n",
       "      <td>0.000000</td>\n",
       "      <td>0.000000</td>\n",
       "      <td>0.000000</td>\n",
       "    </tr>\n",
       "    <tr>\n",
       "      <th>max</th>\n",
       "      <td>8.000000</td>\n",
       "      <td>8.000000</td>\n",
       "      <td>8.000000</td>\n",
       "      <td>8.000000</td>\n",
       "      <td>8.000000</td>\n",
       "      <td>8.000000</td>\n",
       "    </tr>\n",
       "  </tbody>\n",
       "</table>\n",
       "</div>"
      ],
      "text/plain": [
       "              PAY_0         PAY_2         PAY_3         PAY_4         PAY_5  \\\n",
       "count  30000.000000  30000.000000  30000.000000  30000.000000  30000.000000   \n",
       "mean      -0.016700     -0.133767     -0.166200     -0.220667     -0.266200   \n",
       "std        1.123802      1.197186      1.196868      1.169139      1.133187   \n",
       "min       -2.000000     -2.000000     -2.000000     -2.000000     -2.000000   \n",
       "25%       -1.000000     -1.000000     -1.000000     -1.000000     -1.000000   \n",
       "50%        0.000000      0.000000      0.000000      0.000000      0.000000   \n",
       "75%        0.000000      0.000000      0.000000      0.000000      0.000000   \n",
       "max        8.000000      8.000000      8.000000      8.000000      8.000000   \n",
       "\n",
       "              PAY_6  \n",
       "count  30000.000000  \n",
       "mean      -0.291100  \n",
       "std        1.149988  \n",
       "min       -2.000000  \n",
       "25%       -1.000000  \n",
       "50%        0.000000  \n",
       "75%        0.000000  \n",
       "max        8.000000  "
      ]
     },
     "execution_count": 95,
     "metadata": {},
     "output_type": "execute_result"
    }
   ],
   "source": [
    "pay_status.describe()"
   ]
  },
  {
   "cell_type": "markdown",
   "metadata": {},
   "source": [
    "to avoid data misinterpretation, -2 will be replaced with zero in accordance to the description above."
   ]
  },
  {
   "cell_type": "code",
   "execution_count": 96,
   "metadata": {},
   "outputs": [
    {
     "name": "stderr",
     "output_type": "stream",
     "text": [
      "C:\\Users\\sintyadi.thong\\AppData\\Local\\Continuum\\anaconda3\\lib\\site-packages\\pandas\\core\\frame.py:4172: SettingWithCopyWarning: \n",
      "A value is trying to be set on a copy of a slice from a DataFrame\n",
      "\n",
      "See the caveats in the documentation: https://pandas.pydata.org/pandas-docs/stable/user_guide/indexing.html#returning-a-view-versus-a-copy\n",
      "  method=method,\n"
     ]
    }
   ],
   "source": [
    "pay_status.replace(-2, 0, inplace=True)"
   ]
  },
  {
   "cell_type": "markdown",
   "metadata": {},
   "source": [
    "Our first feature engineering will be to see the longest, shortest, average, and most frequent repayment status of each customer."
   ]
  },
  {
   "cell_type": "code",
   "execution_count": 97,
   "metadata": {},
   "outputs": [
    {
     "name": "stdout",
     "output_type": "stream",
     "text": [
      "['minimum', 'min(axis=1)']\n",
      "['maximum', 'max(axis=1)']\n",
      "['average', 'mean(axis=1)']\n",
      "['most_frequent', 'mode(axis=1)[0]']\n"
     ]
    },
    {
     "name": "stderr",
     "output_type": "stream",
     "text": [
      "C:\\Users\\sintyadi.thong\\AppData\\Local\\Continuum\\anaconda3\\lib\\site-packages\\ipykernel_launcher.py:3: SettingWithCopyWarning: \n",
      "A value is trying to be set on a copy of a slice from a DataFrame.\n",
      "Try using .loc[row_indexer,col_indexer] = value instead\n",
      "\n",
      "See the caveats in the documentation: https://pandas.pydata.org/pandas-docs/stable/user_guide/indexing.html#returning-a-view-versus-a-copy\n",
      "  This is separate from the ipykernel package so we can avoid doing imports until\n"
     ]
    }
   ],
   "source": [
    "for funcs in [['minimum','min(axis=1)'], ['maximum', 'max(axis=1)'], ['average', 'mean(axis=1)'], ['most_frequent', 'mode(axis=1)[0]']]:\n",
    "    print(funcs)\n",
    "    pay_status[funcs[0]] = eval('pay_status.'+(funcs[1]))\n",
    "    "
   ]
  },
  {
   "cell_type": "code",
   "execution_count": 98,
   "metadata": {},
   "outputs": [
    {
     "name": "stderr",
     "output_type": "stream",
     "text": [
      "C:\\Users\\sintyadi.thong\\AppData\\Local\\Continuum\\anaconda3\\lib\\site-packages\\ipykernel_launcher.py:4: SettingWithCopyWarning: \n",
      "A value is trying to be set on a copy of a slice from a DataFrame.\n",
      "Try using .loc[row_indexer,col_indexer] = value instead\n",
      "\n",
      "See the caveats in the documentation: https://pandas.pydata.org/pandas-docs/stable/user_guide/indexing.html#returning-a-view-versus-a-copy\n",
      "  after removing the cwd from sys.path.\n"
     ]
    }
   ],
   "source": [
    "isY = lambda x:int(x=='Y')\n",
    "countRiskFactors = lambda row: int(row[\"PAY_0\"]>0) +int(row[\"PAY_2\"]>0) + int(row[\"PAY_3\"]>0) + int(row[\"PAY_4\"]>0) + int(row[\"PAY_5\"]>0) + int(row[\"PAY_6\"]>0)\n",
    "\n",
    "pay_status['number_of_delq'] = pay_status.apply(countRiskFactors,axis=1)\n"
   ]
  },
  {
   "cell_type": "code",
   "execution_count": 100,
   "metadata": {},
   "outputs": [
    {
     "data": {
      "text/html": [
       "<div>\n",
       "<style scoped>\n",
       "    .dataframe tbody tr th:only-of-type {\n",
       "        vertical-align: middle;\n",
       "    }\n",
       "\n",
       "    .dataframe tbody tr th {\n",
       "        vertical-align: top;\n",
       "    }\n",
       "\n",
       "    .dataframe thead th {\n",
       "        text-align: right;\n",
       "    }\n",
       "</style>\n",
       "<table border=\"1\" class=\"dataframe\">\n",
       "  <thead>\n",
       "    <tr style=\"text-align: right;\">\n",
       "      <th></th>\n",
       "      <th>PAY_0</th>\n",
       "      <th>PAY_2</th>\n",
       "      <th>PAY_3</th>\n",
       "      <th>PAY_4</th>\n",
       "      <th>PAY_5</th>\n",
       "      <th>PAY_6</th>\n",
       "      <th>minimum</th>\n",
       "      <th>maximum</th>\n",
       "      <th>average</th>\n",
       "      <th>most_frequent</th>\n",
       "      <th>number_of_delq</th>\n",
       "    </tr>\n",
       "    <tr>\n",
       "      <th>ID</th>\n",
       "      <th></th>\n",
       "      <th></th>\n",
       "      <th></th>\n",
       "      <th></th>\n",
       "      <th></th>\n",
       "      <th></th>\n",
       "      <th></th>\n",
       "      <th></th>\n",
       "      <th></th>\n",
       "      <th></th>\n",
       "      <th></th>\n",
       "    </tr>\n",
       "  </thead>\n",
       "  <tbody>\n",
       "    <tr>\n",
       "      <th>1</th>\n",
       "      <td>2</td>\n",
       "      <td>2</td>\n",
       "      <td>-1</td>\n",
       "      <td>-1</td>\n",
       "      <td>0</td>\n",
       "      <td>0</td>\n",
       "      <td>-1</td>\n",
       "      <td>2</td>\n",
       "      <td>0.375</td>\n",
       "      <td>-1.0</td>\n",
       "      <td>2</td>\n",
       "    </tr>\n",
       "    <tr>\n",
       "      <th>2</th>\n",
       "      <td>-1</td>\n",
       "      <td>2</td>\n",
       "      <td>0</td>\n",
       "      <td>0</td>\n",
       "      <td>0</td>\n",
       "      <td>2</td>\n",
       "      <td>-1</td>\n",
       "      <td>2</td>\n",
       "      <td>0.500</td>\n",
       "      <td>0.0</td>\n",
       "      <td>2</td>\n",
       "    </tr>\n",
       "    <tr>\n",
       "      <th>3</th>\n",
       "      <td>0</td>\n",
       "      <td>0</td>\n",
       "      <td>0</td>\n",
       "      <td>0</td>\n",
       "      <td>0</td>\n",
       "      <td>0</td>\n",
       "      <td>0</td>\n",
       "      <td>0</td>\n",
       "      <td>0.000</td>\n",
       "      <td>0.0</td>\n",
       "      <td>0</td>\n",
       "    </tr>\n",
       "    <tr>\n",
       "      <th>4</th>\n",
       "      <td>0</td>\n",
       "      <td>0</td>\n",
       "      <td>0</td>\n",
       "      <td>0</td>\n",
       "      <td>0</td>\n",
       "      <td>0</td>\n",
       "      <td>0</td>\n",
       "      <td>0</td>\n",
       "      <td>0.000</td>\n",
       "      <td>0.0</td>\n",
       "      <td>0</td>\n",
       "    </tr>\n",
       "    <tr>\n",
       "      <th>5</th>\n",
       "      <td>-1</td>\n",
       "      <td>0</td>\n",
       "      <td>-1</td>\n",
       "      <td>0</td>\n",
       "      <td>0</td>\n",
       "      <td>0</td>\n",
       "      <td>-1</td>\n",
       "      <td>0</td>\n",
       "      <td>-0.375</td>\n",
       "      <td>0.0</td>\n",
       "      <td>0</td>\n",
       "    </tr>\n",
       "  </tbody>\n",
       "</table>\n",
       "</div>"
      ],
      "text/plain": [
       "    PAY_0  PAY_2  PAY_3  PAY_4  PAY_5  PAY_6  minimum  maximum  average  \\\n",
       "ID                                                                        \n",
       "1       2      2     -1     -1      0      0       -1        2    0.375   \n",
       "2      -1      2      0      0      0      2       -1        2    0.500   \n",
       "3       0      0      0      0      0      0        0        0    0.000   \n",
       "4       0      0      0      0      0      0        0        0    0.000   \n",
       "5      -1      0     -1      0      0      0       -1        0   -0.375   \n",
       "\n",
       "    most_frequent  number_of_delq  \n",
       "ID                                 \n",
       "1            -1.0               2  \n",
       "2             0.0               2  \n",
       "3             0.0               0  \n",
       "4             0.0               0  \n",
       "5             0.0               0  "
      ]
     },
     "execution_count": 100,
     "metadata": {},
     "output_type": "execute_result"
    }
   ],
   "source": [
    "pay_status.head()"
   ]
  },
  {
   "cell_type": "markdown",
   "metadata": {},
   "source": [
    "### Billing Amount"
   ]
  },
  {
   "cell_type": "code",
   "execution_count": 102,
   "metadata": {},
   "outputs": [
    {
     "data": {
      "text/html": [
       "<div>\n",
       "<style scoped>\n",
       "    .dataframe tbody tr th:only-of-type {\n",
       "        vertical-align: middle;\n",
       "    }\n",
       "\n",
       "    .dataframe tbody tr th {\n",
       "        vertical-align: top;\n",
       "    }\n",
       "\n",
       "    .dataframe thead th {\n",
       "        text-align: right;\n",
       "    }\n",
       "</style>\n",
       "<table border=\"1\" class=\"dataframe\">\n",
       "  <thead>\n",
       "    <tr style=\"text-align: right;\">\n",
       "      <th></th>\n",
       "      <th>BILL_AMT1</th>\n",
       "      <th>BILL_AMT2</th>\n",
       "      <th>BILL_AMT3</th>\n",
       "      <th>BILL_AMT4</th>\n",
       "      <th>BILL_AMT5</th>\n",
       "      <th>BILL_AMT6</th>\n",
       "    </tr>\n",
       "    <tr>\n",
       "      <th>ID</th>\n",
       "      <th></th>\n",
       "      <th></th>\n",
       "      <th></th>\n",
       "      <th></th>\n",
       "      <th></th>\n",
       "      <th></th>\n",
       "    </tr>\n",
       "  </thead>\n",
       "  <tbody>\n",
       "    <tr>\n",
       "      <th>1</th>\n",
       "      <td>3913.0</td>\n",
       "      <td>3102.0</td>\n",
       "      <td>689.0</td>\n",
       "      <td>0.0</td>\n",
       "      <td>0.0</td>\n",
       "      <td>0.0</td>\n",
       "    </tr>\n",
       "    <tr>\n",
       "      <th>2</th>\n",
       "      <td>2682.0</td>\n",
       "      <td>1725.0</td>\n",
       "      <td>2682.0</td>\n",
       "      <td>3272.0</td>\n",
       "      <td>3455.0</td>\n",
       "      <td>3261.0</td>\n",
       "    </tr>\n",
       "    <tr>\n",
       "      <th>3</th>\n",
       "      <td>29239.0</td>\n",
       "      <td>14027.0</td>\n",
       "      <td>13559.0</td>\n",
       "      <td>14331.0</td>\n",
       "      <td>14948.0</td>\n",
       "      <td>15549.0</td>\n",
       "    </tr>\n",
       "    <tr>\n",
       "      <th>4</th>\n",
       "      <td>46990.0</td>\n",
       "      <td>48233.0</td>\n",
       "      <td>49291.0</td>\n",
       "      <td>28314.0</td>\n",
       "      <td>28959.0</td>\n",
       "      <td>29547.0</td>\n",
       "    </tr>\n",
       "    <tr>\n",
       "      <th>5</th>\n",
       "      <td>8617.0</td>\n",
       "      <td>5670.0</td>\n",
       "      <td>35835.0</td>\n",
       "      <td>20940.0</td>\n",
       "      <td>19146.0</td>\n",
       "      <td>19131.0</td>\n",
       "    </tr>\n",
       "  </tbody>\n",
       "</table>\n",
       "</div>"
      ],
      "text/plain": [
       "    BILL_AMT1  BILL_AMT2  BILL_AMT3  BILL_AMT4  BILL_AMT5  BILL_AMT6\n",
       "ID                                                                  \n",
       "1      3913.0     3102.0      689.0        0.0        0.0        0.0\n",
       "2      2682.0     1725.0     2682.0     3272.0     3455.0     3261.0\n",
       "3     29239.0    14027.0    13559.0    14331.0    14948.0    15549.0\n",
       "4     46990.0    48233.0    49291.0    28314.0    28959.0    29547.0\n",
       "5      8617.0     5670.0    35835.0    20940.0    19146.0    19131.0"
      ]
     },
     "execution_count": 102,
     "metadata": {},
     "output_type": "execute_result"
    }
   ],
   "source": [
    "bill_data.head()"
   ]
  },
  {
   "cell_type": "markdown",
   "metadata": {},
   "source": [
    "For billing data, we will be working on several iterations, including the utilization ratio, the remaining limit ratio, growth ratio."
   ]
  },
  {
   "cell_type": "code",
   "execution_count": 109,
   "metadata": {},
   "outputs": [
    {
     "data": {
      "text/plain": [
       "20"
      ]
     },
     "execution_count": 109,
     "metadata": {},
     "output_type": "execute_result"
    }
   ],
   "source": [
    "import gc\n",
    "gc.collect()"
   ]
  },
  {
   "cell_type": "code",
   "execution_count": 195,
   "metadata": {},
   "outputs": [],
   "source": [
    "bill_data_util = bill_data.divide(demog['LIMIT_BAL'], axis=0)\n",
    "bill_data_util= bill_data_util.add_prefix('UTIL_')\n",
    "bill_data_remaining = bill_data.subtract(demog['LIMIT_BAL'], axis=0)*-1\n",
    "bill_data_remaining= bill_data_remaining.add_prefix('REMAIN_')"
   ]
  },
  {
   "cell_type": "code",
   "execution_count": 196,
   "metadata": {},
   "outputs": [],
   "source": [
    "def growth_all(data, time_frame):\n",
    "    k = pd.DataFrame()\n",
    "    time_frame -= 1\n",
    "    get = list(data)\n",
    "    for i in range(time_frame):\n",
    "        name = data.columns[0][:-1]+'_grwth_'+str(i+1)+str(i+2)\n",
    "        \n",
    "        k[name] = data[get[i]]/data[get[i+1]]\n",
    "        k[name].fillna(0, inplace=True)\n",
    "    l = pd.DataFrame()\n",
    "    for funcs in [['min','min(axis=1)'], ['max', 'max(axis=1)'], ['avg', 'mean(axis=1)'], ['mst_frq', 'mode(axis=1)[0]']]:\n",
    "        name = data.columns[0][:-1]+\"_\"+funcs[0]+\"_{}_mth_grwth\".format(time_frame+1)\n",
    "        l[name] = eval('k.'+(funcs[1]))\n",
    "    return k, l\n",
    "\n",
    "def growth_between(data, time_frame):\n",
    "    k = pd.DataFrame()\n",
    "    time_frame -=1\n",
    "    get = list(data)\n",
    "    name = data.columns[0][:-1]+\"_{}_mth_grwth\".format(time_frame)\n",
    "    k[name] = data[get[0]] / data[get[time_frame]]\n",
    "    k[name].fillna(0, inplace=True)\n",
    "    return k\n",
    "    "
   ]
  },
  {
   "cell_type": "markdown",
   "metadata": {},
   "source": [
    "Using the function above, we will feature engineer the billing amount data including its variant (utilization and remaining). Multicolinearity might appear, but we will take care of that in later stage."
   ]
  },
  {
   "cell_type": "code",
   "execution_count": 199,
   "metadata": {},
   "outputs": [
    {
     "name": "stdout",
     "output_type": "stream",
     "text": [
      "(30000, 6)\n",
      "(30000, 6)\n",
      "(30000, 13)\n",
      "(30000, 6)\n",
      "(30000, 6)\n",
      "(30000, 13)\n",
      "(30000, 6)\n",
      "(30000, 6)\n",
      "(30000, 13)\n"
     ]
    }
   ],
   "source": [
    "# Bill Amount data\n",
    "bill_amt_full = pd.DataFrame()\n",
    "remaining_amt_full = pd.DataFrame()\n",
    "util_full = pd.DataFrame()\n",
    "bill = dict()\n",
    "for k in [[bill_amt_full, bill_data, 'bill_result'], [remaining_amt_full, bill_data_remaining, 'remaining_result'], [util_full, bill_data_util, 'util_result']]:\n",
    "    k[0] = pd.concat([k[0], k[1]], axis=1)\n",
    "    print(k[0].shape)\n",
    "    for time in [3,6]:\n",
    "        a, b = growth_all(k[1], time)\n",
    "        c = growth_between(k[1], time)\n",
    "        print(k[0].shape)\n",
    "        k[0] = pd.concat([k[0], a], axis=1)\n",
    "        k[0] = pd.concat([k[0], b], axis=1)\n",
    "        k[0] = pd.concat([k[0], c], axis=1)\n",
    "        bill[k[2]] = k[0].copy()\n",
    "\n",
    "        "
   ]
  },
  {
   "cell_type": "code",
   "execution_count": 205,
   "metadata": {},
   "outputs": [],
   "source": [
    "billing_merge = pd.concat(bill.values(), axis=1)"
   ]
  },
  {
   "cell_type": "code",
   "execution_count": 209,
   "metadata": {},
   "outputs": [
    {
     "ename": "NameError",
     "evalue": "name 'bill' is not defined",
     "output_type": "error",
     "traceback": [
      "\u001b[1;31m---------------------------------------------------------------------------\u001b[0m",
      "\u001b[1;31mNameError\u001b[0m                                 Traceback (most recent call last)",
      "\u001b[1;32m<ipython-input-209-34dfb1c26f65>\u001b[0m in \u001b[0;36m<module>\u001b[1;34m\u001b[0m\n\u001b[1;32m----> 1\u001b[1;33m \u001b[1;32mdel\u001b[0m \u001b[0mbill\u001b[0m\u001b[1;33m\u001b[0m\u001b[1;33m\u001b[0m\u001b[0m\n\u001b[0m\u001b[0;32m      2\u001b[0m \u001b[0mgc\u001b[0m\u001b[1;33m.\u001b[0m\u001b[0mcollect\u001b[0m\u001b[1;33m(\u001b[0m\u001b[1;33m)\u001b[0m\u001b[1;33m\u001b[0m\u001b[1;33m\u001b[0m\u001b[0m\n",
      "\u001b[1;31mNameError\u001b[0m: name 'bill' is not defined"
     ]
    }
   ],
   "source": [
    "del bill\n",
    "gc.collect()"
   ]
  },
  {
   "cell_type": "code",
   "execution_count": 210,
   "metadata": {},
   "outputs": [
    {
     "data": {
      "text/html": [
       "<div>\n",
       "<style scoped>\n",
       "    .dataframe tbody tr th:only-of-type {\n",
       "        vertical-align: middle;\n",
       "    }\n",
       "\n",
       "    .dataframe tbody tr th {\n",
       "        vertical-align: top;\n",
       "    }\n",
       "\n",
       "    .dataframe thead th {\n",
       "        text-align: right;\n",
       "    }\n",
       "</style>\n",
       "<table border=\"1\" class=\"dataframe\">\n",
       "  <thead>\n",
       "    <tr style=\"text-align: right;\">\n",
       "      <th></th>\n",
       "      <th>BILL_AMT1</th>\n",
       "      <th>BILL_AMT2</th>\n",
       "      <th>BILL_AMT3</th>\n",
       "      <th>BILL_AMT4</th>\n",
       "      <th>BILL_AMT5</th>\n",
       "      <th>BILL_AMT6</th>\n",
       "      <th>BILL_AMT_grwth_12</th>\n",
       "      <th>BILL_AMT_grwth_23</th>\n",
       "      <th>BILL_AMT_min_3_mth_grwth</th>\n",
       "      <th>BILL_AMT_max_3_mth_grwth</th>\n",
       "      <th>...</th>\n",
       "      <th>UTIL_BILL_AMT_grwth_12</th>\n",
       "      <th>UTIL_BILL_AMT_grwth_23</th>\n",
       "      <th>UTIL_BILL_AMT_grwth_34</th>\n",
       "      <th>UTIL_BILL_AMT_grwth_45</th>\n",
       "      <th>UTIL_BILL_AMT_grwth_56</th>\n",
       "      <th>UTIL_BILL_AMT_min_6_mth_grwth</th>\n",
       "      <th>UTIL_BILL_AMT_max_6_mth_grwth</th>\n",
       "      <th>UTIL_BILL_AMT_avg_6_mth_grwth</th>\n",
       "      <th>UTIL_BILL_AMT_mst_frq_6_mth_grwth</th>\n",
       "      <th>UTIL_BILL_AMT_5_mth_grwth</th>\n",
       "    </tr>\n",
       "    <tr>\n",
       "      <th>ID</th>\n",
       "      <th></th>\n",
       "      <th></th>\n",
       "      <th></th>\n",
       "      <th></th>\n",
       "      <th></th>\n",
       "      <th></th>\n",
       "      <th></th>\n",
       "      <th></th>\n",
       "      <th></th>\n",
       "      <th></th>\n",
       "      <th></th>\n",
       "      <th></th>\n",
       "      <th></th>\n",
       "      <th></th>\n",
       "      <th></th>\n",
       "      <th></th>\n",
       "      <th></th>\n",
       "      <th></th>\n",
       "      <th></th>\n",
       "      <th></th>\n",
       "      <th></th>\n",
       "    </tr>\n",
       "  </thead>\n",
       "  <tbody>\n",
       "    <tr>\n",
       "      <th>1</th>\n",
       "      <td>3913.0</td>\n",
       "      <td>3102.0</td>\n",
       "      <td>689.0</td>\n",
       "      <td>0.0</td>\n",
       "      <td>0.0</td>\n",
       "      <td>0.0</td>\n",
       "      <td>1.261444</td>\n",
       "      <td>4.502177</td>\n",
       "      <td>1.261444</td>\n",
       "      <td>4.502177</td>\n",
       "      <td>...</td>\n",
       "      <td>1.261444</td>\n",
       "      <td>4.502177</td>\n",
       "      <td>inf</td>\n",
       "      <td>0.000000</td>\n",
       "      <td>0.000000</td>\n",
       "      <td>0.000000</td>\n",
       "      <td>inf</td>\n",
       "      <td>inf</td>\n",
       "      <td>0.000000</td>\n",
       "      <td>inf</td>\n",
       "    </tr>\n",
       "    <tr>\n",
       "      <th>2</th>\n",
       "      <td>2682.0</td>\n",
       "      <td>1725.0</td>\n",
       "      <td>2682.0</td>\n",
       "      <td>3272.0</td>\n",
       "      <td>3455.0</td>\n",
       "      <td>3261.0</td>\n",
       "      <td>1.554783</td>\n",
       "      <td>0.643177</td>\n",
       "      <td>0.643177</td>\n",
       "      <td>1.554783</td>\n",
       "      <td>...</td>\n",
       "      <td>1.554783</td>\n",
       "      <td>0.643177</td>\n",
       "      <td>0.819682</td>\n",
       "      <td>0.947033</td>\n",
       "      <td>1.059491</td>\n",
       "      <td>0.643177</td>\n",
       "      <td>1.554783</td>\n",
       "      <td>1.004833</td>\n",
       "      <td>0.643177</td>\n",
       "      <td>0.822447</td>\n",
       "    </tr>\n",
       "    <tr>\n",
       "      <th>3</th>\n",
       "      <td>29239.0</td>\n",
       "      <td>14027.0</td>\n",
       "      <td>13559.0</td>\n",
       "      <td>14331.0</td>\n",
       "      <td>14948.0</td>\n",
       "      <td>15549.0</td>\n",
       "      <td>2.084480</td>\n",
       "      <td>1.034516</td>\n",
       "      <td>1.034516</td>\n",
       "      <td>2.084480</td>\n",
       "      <td>...</td>\n",
       "      <td>2.084480</td>\n",
       "      <td>1.034516</td>\n",
       "      <td>0.946131</td>\n",
       "      <td>0.958724</td>\n",
       "      <td>0.961348</td>\n",
       "      <td>0.946131</td>\n",
       "      <td>2.084480</td>\n",
       "      <td>1.197040</td>\n",
       "      <td>0.946131</td>\n",
       "      <td>1.880442</td>\n",
       "    </tr>\n",
       "    <tr>\n",
       "      <th>4</th>\n",
       "      <td>46990.0</td>\n",
       "      <td>48233.0</td>\n",
       "      <td>49291.0</td>\n",
       "      <td>28314.0</td>\n",
       "      <td>28959.0</td>\n",
       "      <td>29547.0</td>\n",
       "      <td>0.974229</td>\n",
       "      <td>0.978536</td>\n",
       "      <td>0.974229</td>\n",
       "      <td>0.978536</td>\n",
       "      <td>...</td>\n",
       "      <td>0.974229</td>\n",
       "      <td>0.978536</td>\n",
       "      <td>1.740870</td>\n",
       "      <td>0.977727</td>\n",
       "      <td>0.980100</td>\n",
       "      <td>0.974229</td>\n",
       "      <td>1.740870</td>\n",
       "      <td>1.130292</td>\n",
       "      <td>0.974229</td>\n",
       "      <td>1.590348</td>\n",
       "    </tr>\n",
       "    <tr>\n",
       "      <th>5</th>\n",
       "      <td>8617.0</td>\n",
       "      <td>5670.0</td>\n",
       "      <td>35835.0</td>\n",
       "      <td>20940.0</td>\n",
       "      <td>19146.0</td>\n",
       "      <td>19131.0</td>\n",
       "      <td>1.519753</td>\n",
       "      <td>0.158225</td>\n",
       "      <td>0.158225</td>\n",
       "      <td>1.519753</td>\n",
       "      <td>...</td>\n",
       "      <td>1.519753</td>\n",
       "      <td>0.158225</td>\n",
       "      <td>1.711318</td>\n",
       "      <td>1.093701</td>\n",
       "      <td>1.000784</td>\n",
       "      <td>0.158225</td>\n",
       "      <td>1.711318</td>\n",
       "      <td>1.096756</td>\n",
       "      <td>0.158225</td>\n",
       "      <td>0.450421</td>\n",
       "    </tr>\n",
       "    <tr>\n",
       "      <th>...</th>\n",
       "      <td>...</td>\n",
       "      <td>...</td>\n",
       "      <td>...</td>\n",
       "      <td>...</td>\n",
       "      <td>...</td>\n",
       "      <td>...</td>\n",
       "      <td>...</td>\n",
       "      <td>...</td>\n",
       "      <td>...</td>\n",
       "      <td>...</td>\n",
       "      <td>...</td>\n",
       "      <td>...</td>\n",
       "      <td>...</td>\n",
       "      <td>...</td>\n",
       "      <td>...</td>\n",
       "      <td>...</td>\n",
       "      <td>...</td>\n",
       "      <td>...</td>\n",
       "      <td>...</td>\n",
       "      <td>...</td>\n",
       "      <td>...</td>\n",
       "    </tr>\n",
       "    <tr>\n",
       "      <th>29996</th>\n",
       "      <td>188948.0</td>\n",
       "      <td>192815.0</td>\n",
       "      <td>208365.0</td>\n",
       "      <td>88004.0</td>\n",
       "      <td>31237.0</td>\n",
       "      <td>15980.0</td>\n",
       "      <td>0.979945</td>\n",
       "      <td>0.925371</td>\n",
       "      <td>0.925371</td>\n",
       "      <td>0.979945</td>\n",
       "      <td>...</td>\n",
       "      <td>0.979945</td>\n",
       "      <td>0.925371</td>\n",
       "      <td>2.367676</td>\n",
       "      <td>2.817300</td>\n",
       "      <td>1.954756</td>\n",
       "      <td>0.925371</td>\n",
       "      <td>2.817300</td>\n",
       "      <td>1.809010</td>\n",
       "      <td>0.925371</td>\n",
       "      <td>11.824030</td>\n",
       "    </tr>\n",
       "    <tr>\n",
       "      <th>29997</th>\n",
       "      <td>1683.0</td>\n",
       "      <td>1828.0</td>\n",
       "      <td>3502.0</td>\n",
       "      <td>8979.0</td>\n",
       "      <td>5190.0</td>\n",
       "      <td>0.0</td>\n",
       "      <td>0.920678</td>\n",
       "      <td>0.521987</td>\n",
       "      <td>0.521987</td>\n",
       "      <td>0.920678</td>\n",
       "      <td>...</td>\n",
       "      <td>0.920678</td>\n",
       "      <td>0.521987</td>\n",
       "      <td>0.390021</td>\n",
       "      <td>1.730058</td>\n",
       "      <td>inf</td>\n",
       "      <td>0.390021</td>\n",
       "      <td>inf</td>\n",
       "      <td>inf</td>\n",
       "      <td>0.390021</td>\n",
       "      <td>inf</td>\n",
       "    </tr>\n",
       "    <tr>\n",
       "      <th>29998</th>\n",
       "      <td>3565.0</td>\n",
       "      <td>3356.0</td>\n",
       "      <td>2758.0</td>\n",
       "      <td>20878.0</td>\n",
       "      <td>20582.0</td>\n",
       "      <td>19357.0</td>\n",
       "      <td>1.062277</td>\n",
       "      <td>1.216824</td>\n",
       "      <td>1.062277</td>\n",
       "      <td>1.216824</td>\n",
       "      <td>...</td>\n",
       "      <td>1.062277</td>\n",
       "      <td>1.216824</td>\n",
       "      <td>0.132101</td>\n",
       "      <td>1.014381</td>\n",
       "      <td>1.063285</td>\n",
       "      <td>0.132101</td>\n",
       "      <td>1.216824</td>\n",
       "      <td>0.897773</td>\n",
       "      <td>0.132101</td>\n",
       "      <td>0.184171</td>\n",
       "    </tr>\n",
       "    <tr>\n",
       "      <th>29999</th>\n",
       "      <td>-1645.0</td>\n",
       "      <td>78379.0</td>\n",
       "      <td>76304.0</td>\n",
       "      <td>52774.0</td>\n",
       "      <td>11855.0</td>\n",
       "      <td>48944.0</td>\n",
       "      <td>-0.020988</td>\n",
       "      <td>1.027194</td>\n",
       "      <td>-0.020988</td>\n",
       "      <td>1.027194</td>\n",
       "      <td>...</td>\n",
       "      <td>-0.020988</td>\n",
       "      <td>1.027194</td>\n",
       "      <td>1.445863</td>\n",
       "      <td>4.451624</td>\n",
       "      <td>0.242216</td>\n",
       "      <td>-0.020988</td>\n",
       "      <td>4.451624</td>\n",
       "      <td>1.429182</td>\n",
       "      <td>-0.020988</td>\n",
       "      <td>-0.033610</td>\n",
       "    </tr>\n",
       "    <tr>\n",
       "      <th>30000</th>\n",
       "      <td>47929.0</td>\n",
       "      <td>48905.0</td>\n",
       "      <td>49764.0</td>\n",
       "      <td>36535.0</td>\n",
       "      <td>32428.0</td>\n",
       "      <td>15313.0</td>\n",
       "      <td>0.980043</td>\n",
       "      <td>0.982739</td>\n",
       "      <td>0.980043</td>\n",
       "      <td>0.982739</td>\n",
       "      <td>...</td>\n",
       "      <td>0.980043</td>\n",
       "      <td>0.982739</td>\n",
       "      <td>1.362091</td>\n",
       "      <td>1.126650</td>\n",
       "      <td>2.117678</td>\n",
       "      <td>0.980043</td>\n",
       "      <td>2.117678</td>\n",
       "      <td>1.313840</td>\n",
       "      <td>0.980043</td>\n",
       "      <td>3.129955</td>\n",
       "    </tr>\n",
       "  </tbody>\n",
       "</table>\n",
       "<p>30000 rows × 69 columns</p>\n",
       "</div>"
      ],
      "text/plain": [
       "       BILL_AMT1  BILL_AMT2  BILL_AMT3  BILL_AMT4  BILL_AMT5  BILL_AMT6  \\\n",
       "ID                                                                        \n",
       "1         3913.0     3102.0      689.0        0.0        0.0        0.0   \n",
       "2         2682.0     1725.0     2682.0     3272.0     3455.0     3261.0   \n",
       "3        29239.0    14027.0    13559.0    14331.0    14948.0    15549.0   \n",
       "4        46990.0    48233.0    49291.0    28314.0    28959.0    29547.0   \n",
       "5         8617.0     5670.0    35835.0    20940.0    19146.0    19131.0   \n",
       "...          ...        ...        ...        ...        ...        ...   \n",
       "29996   188948.0   192815.0   208365.0    88004.0    31237.0    15980.0   \n",
       "29997     1683.0     1828.0     3502.0     8979.0     5190.0        0.0   \n",
       "29998     3565.0     3356.0     2758.0    20878.0    20582.0    19357.0   \n",
       "29999    -1645.0    78379.0    76304.0    52774.0    11855.0    48944.0   \n",
       "30000    47929.0    48905.0    49764.0    36535.0    32428.0    15313.0   \n",
       "\n",
       "       BILL_AMT_grwth_12  BILL_AMT_grwth_23  BILL_AMT_min_3_mth_grwth  \\\n",
       "ID                                                                      \n",
       "1               1.261444           4.502177                  1.261444   \n",
       "2               1.554783           0.643177                  0.643177   \n",
       "3               2.084480           1.034516                  1.034516   \n",
       "4               0.974229           0.978536                  0.974229   \n",
       "5               1.519753           0.158225                  0.158225   \n",
       "...                  ...                ...                       ...   \n",
       "29996           0.979945           0.925371                  0.925371   \n",
       "29997           0.920678           0.521987                  0.521987   \n",
       "29998           1.062277           1.216824                  1.062277   \n",
       "29999          -0.020988           1.027194                 -0.020988   \n",
       "30000           0.980043           0.982739                  0.980043   \n",
       "\n",
       "       BILL_AMT_max_3_mth_grwth  ...  UTIL_BILL_AMT_grwth_12  \\\n",
       "ID                               ...                           \n",
       "1                      4.502177  ...                1.261444   \n",
       "2                      1.554783  ...                1.554783   \n",
       "3                      2.084480  ...                2.084480   \n",
       "4                      0.978536  ...                0.974229   \n",
       "5                      1.519753  ...                1.519753   \n",
       "...                         ...  ...                     ...   \n",
       "29996                  0.979945  ...                0.979945   \n",
       "29997                  0.920678  ...                0.920678   \n",
       "29998                  1.216824  ...                1.062277   \n",
       "29999                  1.027194  ...               -0.020988   \n",
       "30000                  0.982739  ...                0.980043   \n",
       "\n",
       "       UTIL_BILL_AMT_grwth_23  UTIL_BILL_AMT_grwth_34  UTIL_BILL_AMT_grwth_45  \\\n",
       "ID                                                                              \n",
       "1                    4.502177                     inf                0.000000   \n",
       "2                    0.643177                0.819682                0.947033   \n",
       "3                    1.034516                0.946131                0.958724   \n",
       "4                    0.978536                1.740870                0.977727   \n",
       "5                    0.158225                1.711318                1.093701   \n",
       "...                       ...                     ...                     ...   \n",
       "29996                0.925371                2.367676                2.817300   \n",
       "29997                0.521987                0.390021                1.730058   \n",
       "29998                1.216824                0.132101                1.014381   \n",
       "29999                1.027194                1.445863                4.451624   \n",
       "30000                0.982739                1.362091                1.126650   \n",
       "\n",
       "       UTIL_BILL_AMT_grwth_56  UTIL_BILL_AMT_min_6_mth_grwth  \\\n",
       "ID                                                             \n",
       "1                    0.000000                       0.000000   \n",
       "2                    1.059491                       0.643177   \n",
       "3                    0.961348                       0.946131   \n",
       "4                    0.980100                       0.974229   \n",
       "5                    1.000784                       0.158225   \n",
       "...                       ...                            ...   \n",
       "29996                1.954756                       0.925371   \n",
       "29997                     inf                       0.390021   \n",
       "29998                1.063285                       0.132101   \n",
       "29999                0.242216                      -0.020988   \n",
       "30000                2.117678                       0.980043   \n",
       "\n",
       "       UTIL_BILL_AMT_max_6_mth_grwth  UTIL_BILL_AMT_avg_6_mth_grwth  \\\n",
       "ID                                                                    \n",
       "1                                inf                            inf   \n",
       "2                           1.554783                       1.004833   \n",
       "3                           2.084480                       1.197040   \n",
       "4                           1.740870                       1.130292   \n",
       "5                           1.711318                       1.096756   \n",
       "...                              ...                            ...   \n",
       "29996                       2.817300                       1.809010   \n",
       "29997                            inf                            inf   \n",
       "29998                       1.216824                       0.897773   \n",
       "29999                       4.451624                       1.429182   \n",
       "30000                       2.117678                       1.313840   \n",
       "\n",
       "       UTIL_BILL_AMT_mst_frq_6_mth_grwth  UTIL_BILL_AMT_5_mth_grwth  \n",
       "ID                                                                   \n",
       "1                               0.000000                        inf  \n",
       "2                               0.643177                   0.822447  \n",
       "3                               0.946131                   1.880442  \n",
       "4                               0.974229                   1.590348  \n",
       "5                               0.158225                   0.450421  \n",
       "...                                  ...                        ...  \n",
       "29996                           0.925371                  11.824030  \n",
       "29997                           0.390021                        inf  \n",
       "29998                           0.132101                   0.184171  \n",
       "29999                          -0.020988                  -0.033610  \n",
       "30000                           0.980043                   3.129955  \n",
       "\n",
       "[30000 rows x 69 columns]"
      ]
     },
     "execution_count": 210,
     "metadata": {},
     "output_type": "execute_result"
    }
   ],
   "source": [
    "billing_merge"
   ]
  },
  {
   "cell_type": "markdown",
   "metadata": {},
   "source": [
    "### Payment Amount"
   ]
  },
  {
   "cell_type": "markdown",
   "metadata": {},
   "source": [
    "The feature engineering of payment will follow the same feature engineering steps given in the billing. But additional feature will be given: ratio between payment and billing as well as remaining billing after payment"
   ]
  },
  {
   "cell_type": "code",
   "execution_count": 214,
   "metadata": {},
   "outputs": [
    {
     "data": {
      "text/html": [
       "<div>\n",
       "<style scoped>\n",
       "    .dataframe tbody tr th:only-of-type {\n",
       "        vertical-align: middle;\n",
       "    }\n",
       "\n",
       "    .dataframe tbody tr th {\n",
       "        vertical-align: top;\n",
       "    }\n",
       "\n",
       "    .dataframe thead th {\n",
       "        text-align: right;\n",
       "    }\n",
       "</style>\n",
       "<table border=\"1\" class=\"dataframe\">\n",
       "  <thead>\n",
       "    <tr style=\"text-align: right;\">\n",
       "      <th></th>\n",
       "      <th>PAY_AMT1</th>\n",
       "      <th>PAY_AMT2</th>\n",
       "      <th>PAY_AMT3</th>\n",
       "      <th>PAY_AMT4</th>\n",
       "      <th>PAY_AMT5</th>\n",
       "      <th>PAY_AMT6</th>\n",
       "    </tr>\n",
       "    <tr>\n",
       "      <th>ID</th>\n",
       "      <th></th>\n",
       "      <th></th>\n",
       "      <th></th>\n",
       "      <th></th>\n",
       "      <th></th>\n",
       "      <th></th>\n",
       "    </tr>\n",
       "  </thead>\n",
       "  <tbody>\n",
       "    <tr>\n",
       "      <th>1</th>\n",
       "      <td>0.0</td>\n",
       "      <td>689.0</td>\n",
       "      <td>0.0</td>\n",
       "      <td>0.0</td>\n",
       "      <td>0.0</td>\n",
       "      <td>0.0</td>\n",
       "    </tr>\n",
       "    <tr>\n",
       "      <th>2</th>\n",
       "      <td>0.0</td>\n",
       "      <td>1000.0</td>\n",
       "      <td>1000.0</td>\n",
       "      <td>1000.0</td>\n",
       "      <td>0.0</td>\n",
       "      <td>2000.0</td>\n",
       "    </tr>\n",
       "    <tr>\n",
       "      <th>3</th>\n",
       "      <td>1518.0</td>\n",
       "      <td>1500.0</td>\n",
       "      <td>1000.0</td>\n",
       "      <td>1000.0</td>\n",
       "      <td>1000.0</td>\n",
       "      <td>5000.0</td>\n",
       "    </tr>\n",
       "    <tr>\n",
       "      <th>4</th>\n",
       "      <td>2000.0</td>\n",
       "      <td>2019.0</td>\n",
       "      <td>1200.0</td>\n",
       "      <td>1100.0</td>\n",
       "      <td>1069.0</td>\n",
       "      <td>1000.0</td>\n",
       "    </tr>\n",
       "    <tr>\n",
       "      <th>5</th>\n",
       "      <td>2000.0</td>\n",
       "      <td>36681.0</td>\n",
       "      <td>10000.0</td>\n",
       "      <td>9000.0</td>\n",
       "      <td>689.0</td>\n",
       "      <td>679.0</td>\n",
       "    </tr>\n",
       "  </tbody>\n",
       "</table>\n",
       "</div>"
      ],
      "text/plain": [
       "    PAY_AMT1  PAY_AMT2  PAY_AMT3  PAY_AMT4  PAY_AMT5  PAY_AMT6\n",
       "ID                                                            \n",
       "1        0.0     689.0       0.0       0.0       0.0       0.0\n",
       "2        0.0    1000.0    1000.0    1000.0       0.0    2000.0\n",
       "3     1518.0    1500.0    1000.0    1000.0    1000.0    5000.0\n",
       "4     2000.0    2019.0    1200.0    1100.0    1069.0    1000.0\n",
       "5     2000.0   36681.0   10000.0    9000.0     689.0     679.0"
      ]
     },
     "execution_count": 214,
     "metadata": {},
     "output_type": "execute_result"
    }
   ],
   "source": [
    "payment_amt.head()"
   ]
  },
  {
   "cell_type": "code",
   "execution_count": 237,
   "metadata": {},
   "outputs": [
    {
     "data": {
      "text/plain": [
       "84"
      ]
     },
     "execution_count": 237,
     "metadata": {},
     "output_type": "execute_result"
    }
   ],
   "source": [
    "bdata = bill_data.copy()\n",
    "bdata.columns = list(payment_amt)\n",
    "pay_to_limit = payment_amt.div(demog['LIMIT_BAL'], axis=0)\n",
    "pay_to_limit = pay_to_limit.add_prefix('LMT_TO_')\n",
    "remaining_bill = payment_amt.subtract(bdata, axis=1) * -1\n",
    "remaining_bill = remaining_bill.add_prefix('RMAIN_AFTR_')\n",
    "pay_to_bill = payment_amt.div(bdata, axis=1)\n",
    "pay_to_bill = pay_to_bill.add_prefix('BILL_TO_')\n",
    "del bdata\n",
    "gc.collect()"
   ]
  },
  {
   "cell_type": "code",
   "execution_count": 238,
   "metadata": {},
   "outputs": [
    {
     "name": "stdout",
     "output_type": "stream",
     "text": [
      "(30000, 6)\n",
      "(30000, 6)\n",
      "(30000, 13)\n",
      "(30000, 6)\n",
      "(30000, 6)\n",
      "(30000, 13)\n",
      "(30000, 6)\n",
      "(30000, 6)\n",
      "(30000, 13)\n",
      "(30000, 6)\n",
      "(30000, 6)\n",
      "(30000, 13)\n"
     ]
    }
   ],
   "source": [
    "# Bill Amount data\n",
    "payment_amt_full = pd.DataFrame()\n",
    "remaining_bill_full = pd.DataFrame()\n",
    "pay_to_limit_full = pd.DataFrame()\n",
    "pay_to_bill_full = pd.DataFrame()\n",
    "pay = dict()\n",
    "for k in [[payment_amt_full, payment_amt, 'payment_result'], [remaining_bill_full, remaining_bill, 'remaining_bill_result'], [pay_to_limit_full, pay_to_limit, 'pay_to_limit_result'], [pay_to_bill_full, pay_to_bill, 'pay_to_bill_result']]:\n",
    "    k[0] = pd.concat([k[0], k[1]], axis=1)\n",
    "    print(k[0].shape)\n",
    "    for time in [3,6]:\n",
    "        a, b = growth_all(k[1], time)\n",
    "        c = growth_between(k[1], time)\n",
    "        print(k[0].shape)\n",
    "        k[0] = pd.concat([k[0], a], axis=1)\n",
    "        k[0] = pd.concat([k[0], b], axis=1)\n",
    "        k[0] = pd.concat([k[0], c], axis=1)\n",
    "        pay[k[2]] = k[0].copy()\n",
    "\n",
    "        "
   ]
  },
  {
   "cell_type": "code",
   "execution_count": 239,
   "metadata": {},
   "outputs": [
    {
     "data": {
      "text/plain": [
       "20"
      ]
     },
     "execution_count": 239,
     "metadata": {},
     "output_type": "execute_result"
    }
   ],
   "source": [
    "pay_merge = pd.concat(pay.values(), axis=1)\n",
    "del pay\n",
    "gc.collect()"
   ]
  },
  {
   "cell_type": "markdown",
   "metadata": {},
   "source": [
    "### Concat all the features"
   ]
  },
  {
   "cell_type": "code",
   "execution_count": 280,
   "metadata": {},
   "outputs": [],
   "source": [
    "x = pd.concat([demog, pay_status, billing_merge, pay_merge], axis=1)"
   ]
  },
  {
   "cell_type": "code",
   "execution_count": 281,
   "metadata": {},
   "outputs": [
    {
     "data": {
      "text/plain": [
       "(30000, 177)"
      ]
     },
     "execution_count": 281,
     "metadata": {},
     "output_type": "execute_result"
    }
   ],
   "source": [
    "x.shape"
   ]
  },
  {
   "cell_type": "code",
   "execution_count": 282,
   "metadata": {},
   "outputs": [
    {
     "data": {
      "text/plain": [
       "(30000, 163)"
      ]
     },
     "execution_count": 282,
     "metadata": {},
     "output_type": "execute_result"
    }
   ],
   "source": [
    "# remove possibly duplicate columns due to feature engineering\n",
    "x = x.loc[:,~x.columns.duplicated()]\n",
    "x.shape"
   ]
  },
  {
   "cell_type": "markdown",
   "metadata": {},
   "source": [
    "# Multicolinearity filter"
   ]
  },
  {
   "cell_type": "code",
   "execution_count": 283,
   "metadata": {},
   "outputs": [],
   "source": [
    "categories = ['SEX', 'EDUCATION', 'MARRIAGE', 'PAY_0', 'PAY_2', 'PAY_3', 'PAY_4', 'PAY_5', 'PAY_6']\n"
   ]
  },
  {
   "cell_type": "code",
   "execution_count": 284,
   "metadata": {},
   "outputs": [],
   "source": [
    "xcat = x[categories]\n",
    "xnum = x.drop(categories, axis=1)"
   ]
  },
  {
   "cell_type": "markdown",
   "metadata": {},
   "source": [
    "As infinite values in the dataset, we should  handle them as we go through the process."
   ]
  },
  {
   "cell_type": "markdown",
   "metadata": {},
   "source": [
    "### Replace infinites with maximum values"
   ]
  },
  {
   "cell_type": "code",
   "execution_count": 285,
   "metadata": {},
   "outputs": [],
   "source": [
    "for col in list(xnum):\n",
    "    if np.max(xnum[col])==np.inf:\n",
    "        m = xnum.loc[xnum[col] != np.inf, col].max()\n",
    "        xnum[col].replace(np.inf,m,inplace=True)\n",
    "    else:\n",
    "        None\n",
    "\n",
    "    if np.min(xnum[col])==-np.inf:\n",
    "        m = xnum.loc[xnum[col] != -np.inf, col].min()\n",
    "        xnum[col].replace(-np.inf,m,inplace=True)\n",
    "    else:\n",
    "        None"
   ]
  },
  {
   "cell_type": "markdown",
   "metadata": {},
   "source": [
    "### Multicolinearity via pearson for numeric data"
   ]
  },
  {
   "cell_type": "code",
   "execution_count": 286,
   "metadata": {},
   "outputs": [],
   "source": [
    "\n",
    "ze = xnum.corr()\n",
    "columnss = np.full((ze.shape[0],), True, dtype=bool)\n",
    "for i in range(ze.shape[0]):\n",
    "    for j in range(i+1, ze.shape[0]):\n",
    "        if ze.iloc[i,j] >=0.8 or ze.iloc[i,j] <=-0.8:\n",
    "            if columnss[j]:\n",
    "                columnss[j] = False\n",
    "\n",
    "s = ze.head(1)\n",
    "selected_columns = s.columns[columnss]\n",
    "t = list(s[selected_columns])\n",
    "             \n",
    "\n",
    "xnum_clean = xnum[t]\n"
   ]
  },
  {
   "cell_type": "code",
   "execution_count": 287,
   "metadata": {},
   "outputs": [
    {
     "data": {
      "text/plain": [
       "{'BILL_AMT2',\n",
       " 'BILL_AMT3',\n",
       " 'BILL_AMT4',\n",
       " 'BILL_AMT5',\n",
       " 'BILL_AMT6',\n",
       " 'BILL_AMT_avg_3_mth_grwth',\n",
       " 'BILL_AMT_mst_frq_3_mth_grwth',\n",
       " 'BILL_TO_PAY_AMT_avg_3_mth_grwth',\n",
       " 'BILL_TO_PAY_AMT_avg_6_mth_grwth',\n",
       " 'BILL_TO_PAY_AMT_grwth_34',\n",
       " 'BILL_TO_PAY_AMT_grwth_56',\n",
       " 'BILL_TO_PAY_AMT_max_3_mth_grwth',\n",
       " 'BILL_TO_PAY_AMT_max_6_mth_grwth',\n",
       " 'BILL_TO_PAY_AMT_mst_frq_3_mth_grwth',\n",
       " 'LMT_TO_PAY_AMT_2_mth_grwth',\n",
       " 'LMT_TO_PAY_AMT_5_mth_grwth',\n",
       " 'LMT_TO_PAY_AMT_avg_3_mth_grwth',\n",
       " 'LMT_TO_PAY_AMT_avg_6_mth_grwth',\n",
       " 'LMT_TO_PAY_AMT_grwth_12',\n",
       " 'LMT_TO_PAY_AMT_grwth_23',\n",
       " 'LMT_TO_PAY_AMT_grwth_34',\n",
       " 'LMT_TO_PAY_AMT_grwth_45',\n",
       " 'LMT_TO_PAY_AMT_grwth_56',\n",
       " 'LMT_TO_PAY_AMT_max_3_mth_grwth',\n",
       " 'LMT_TO_PAY_AMT_max_6_mth_grwth',\n",
       " 'LMT_TO_PAY_AMT_min_3_mth_grwth',\n",
       " 'LMT_TO_PAY_AMT_min_6_mth_grwth',\n",
       " 'LMT_TO_PAY_AMT_mst_frq_3_mth_grwth',\n",
       " 'LMT_TO_PAY_AMT_mst_frq_6_mth_grwth',\n",
       " 'PAY_AMT_avg_3_mth_grwth',\n",
       " 'PAY_AMT_avg_6_mth_grwth',\n",
       " 'PAY_AMT_mst_frq_3_mth_grwth',\n",
       " 'REMAIN_BILL_AMT1',\n",
       " 'REMAIN_BILL_AMT2',\n",
       " 'REMAIN_BILL_AMT3',\n",
       " 'REMAIN_BILL_AMT4',\n",
       " 'REMAIN_BILL_AMT5',\n",
       " 'REMAIN_BILL_AMT6',\n",
       " 'REMAIN_BILL_AMT_avg_3_mth_grwth',\n",
       " 'REMAIN_BILL_AMT_avg_6_mth_grwth',\n",
       " 'REMAIN_BILL_AMT_mst_frq_3_mth_grwth',\n",
       " 'REMAIN_BILL_AMT_mst_frq_6_mth_grwth',\n",
       " 'RMAIN_AFTR_PAY_AMT1',\n",
       " 'RMAIN_AFTR_PAY_AMT2',\n",
       " 'RMAIN_AFTR_PAY_AMT3',\n",
       " 'RMAIN_AFTR_PAY_AMT4',\n",
       " 'RMAIN_AFTR_PAY_AMT5',\n",
       " 'RMAIN_AFTR_PAY_AMT6',\n",
       " 'RMAIN_AFTR_PAY_AMT_avg_3_mth_grwth',\n",
       " 'RMAIN_AFTR_PAY_AMT_avg_6_mth_grwth',\n",
       " 'RMAIN_AFTR_PAY_AMT_mst_frq_3_mth_grwth',\n",
       " 'UTIL_BILL_AMT2',\n",
       " 'UTIL_BILL_AMT3',\n",
       " 'UTIL_BILL_AMT4',\n",
       " 'UTIL_BILL_AMT5',\n",
       " 'UTIL_BILL_AMT6',\n",
       " 'UTIL_BILL_AMT_2_mth_grwth',\n",
       " 'UTIL_BILL_AMT_5_mth_grwth',\n",
       " 'UTIL_BILL_AMT_avg_3_mth_grwth',\n",
       " 'UTIL_BILL_AMT_avg_6_mth_grwth',\n",
       " 'UTIL_BILL_AMT_grwth_12',\n",
       " 'UTIL_BILL_AMT_grwth_23',\n",
       " 'UTIL_BILL_AMT_grwth_34',\n",
       " 'UTIL_BILL_AMT_grwth_45',\n",
       " 'UTIL_BILL_AMT_grwth_56',\n",
       " 'UTIL_BILL_AMT_max_3_mth_grwth',\n",
       " 'UTIL_BILL_AMT_max_6_mth_grwth',\n",
       " 'UTIL_BILL_AMT_min_3_mth_grwth',\n",
       " 'UTIL_BILL_AMT_min_6_mth_grwth',\n",
       " 'UTIL_BILL_AMT_mst_frq_3_mth_grwth',\n",
       " 'UTIL_BILL_AMT_mst_frq_6_mth_grwth',\n",
       " 'average',\n",
       " 'most_frequent',\n",
       " 'number_of_delq'}"
      ]
     },
     "execution_count": 287,
     "metadata": {},
     "output_type": "execute_result"
    }
   ],
   "source": [
    "#here are the unexpectedly multicol columns\n",
    "set(list(xnum)) - set(list(xnum_clean))"
   ]
  },
  {
   "cell_type": "code",
   "execution_count": 288,
   "metadata": {},
   "outputs": [
    {
     "data": {
      "text/plain": [
       "(30000, 80)"
      ]
     },
     "execution_count": 288,
     "metadata": {},
     "output_type": "execute_result"
    }
   ],
   "source": [
    "xnum_clean.shape"
   ]
  },
  {
   "cell_type": "code",
   "execution_count": 292,
   "metadata": {},
   "outputs": [],
   "source": [
    "\n",
    "d = defaultdict(LabelEncoder)\n",
    "fit = xcat.apply(lambda x: d[x.name].fit_transform(x))\n",
    "\n",
    "# Inverse the encoded\n",
    "fit.apply(lambda x: d[x.name].inverse_transform(x))\n",
    "\n",
    "# Using the dictionary to label future data\n",
    "xcat_encoded = xcat.apply(lambda x: d[x.name].transform(x))"
   ]
  },
  {
   "cell_type": "code",
   "execution_count": 295,
   "metadata": {},
   "outputs": [
    {
     "name": "stdout",
     "output_type": "stream",
     "text": [
      "EDUCATION shall be dropped with pvalue of 2.765464336611277e-05 against SEX\n",
      "MARRIAGE shall be dropped with pvalue of 3.2049390980663363e-07 against SEX\n",
      "PAY_0 shall be dropped with pvalue of 1.4625915624070017e-08 against SEX\n",
      "PAY_2 shall be dropped with pvalue of 3.899168320345592e-14 against SEX\n",
      "PAY_3 shall be dropped with pvalue of 1.2571413679257262e-12 against SEX\n",
      "PAY_4 shall be dropped with pvalue of 3.7764536451057735e-13 against SEX\n",
      "PAY_5 shall be dropped with pvalue of 5.513001897503634e-11 against SEX\n",
      "PAY_6 shall be dropped with pvalue of 6.655840653803592e-09 against SEX\n",
      "MARRIAGE shall be dropped with pvalue of 5.0143091094744556e-241 against EDUCATION\n",
      "PAY_0 shall be dropped with pvalue of 5.1048089185695523e-129 against EDUCATION\n",
      "PAY_2 shall be dropped with pvalue of 8.257159817308712e-137 against EDUCATION\n",
      "PAY_3 shall be dropped with pvalue of 1.6232627725763314e-114 against EDUCATION\n",
      "PAY_4 shall be dropped with pvalue of 4.1840201795602027e-88 against EDUCATION\n",
      "PAY_5 shall be dropped with pvalue of 1.0980616891002622e-70 against EDUCATION\n",
      "PAY_6 shall be dropped with pvalue of 1.401100603941627e-72 against EDUCATION\n",
      "PAY_0 shall be dropped with pvalue of 6.417050850646267e-08 against MARRIAGE\n",
      "PAY_2 shall be dropped with pvalue of 4.6753330796054676e-05 against MARRIAGE\n",
      "PAY_3 shall be dropped with pvalue of 0.004812504099743781 against MARRIAGE\n",
      "PAY_4 shall be dropped with pvalue of 0.00011774399750619308 against MARRIAGE\n",
      "PAY_5 shall be dropped with pvalue of 0.01540432210510349 against MARRIAGE\n",
      "PAY_6 shall be dropped with pvalue of 0.002545962186648271 against MARRIAGE\n",
      "PAY_2 shall be dropped with pvalue of 0.0 against PAY_0\n",
      "PAY_3 shall be dropped with pvalue of 0.0 against PAY_0\n",
      "PAY_4 shall be dropped with pvalue of 0.0 against PAY_0\n",
      "PAY_5 shall be dropped with pvalue of 0.0 against PAY_0\n",
      "PAY_6 shall be dropped with pvalue of 0.0 against PAY_0\n",
      "PAY_3 shall be dropped with pvalue of 0.0 against PAY_2\n",
      "PAY_4 shall be dropped with pvalue of 0.0 against PAY_2\n",
      "PAY_5 shall be dropped with pvalue of 0.0 against PAY_2\n",
      "PAY_6 shall be dropped with pvalue of 0.0 against PAY_2\n",
      "PAY_4 shall be dropped with pvalue of 0.0 against PAY_3\n",
      "PAY_5 shall be dropped with pvalue of 0.0 against PAY_3\n",
      "PAY_6 shall be dropped with pvalue of 0.0 against PAY_3\n",
      "PAY_5 shall be dropped with pvalue of 0.0 against PAY_4\n",
      "PAY_6 shall be dropped with pvalue of 0.0 against PAY_4\n",
      "PAY_6 shall be dropped with pvalue of 0.0 against PAY_5\n"
     ]
    }
   ],
   "source": [
    "from scipy.stats import chisquare, chi2_contingency\n",
    "drop_cols = []\n",
    "for j in range(len(categories)-1):\n",
    "    for k in range(j+1, len(categories)):\n",
    "\n",
    "        pvalue = chi2_contingency(pd.crosstab(xcat_encoded[categories[j]],xcat_encoded[categories[k]]))[1]\n",
    "        if pvalue < 0.05:\n",
    "            drop_cols.append(categories[k])\n",
    "            print('{} shall be dropped with pvalue of {} against {}'.format(categories[k],  pvalue,  categories[j]))\n",
    "        else:\n",
    "            None\n",
    "        \n"
   ]
  },
  {
   "cell_type": "code",
   "execution_count": 296,
   "metadata": {},
   "outputs": [],
   "source": [
    "for cols in np.unique(drop_cols):\n",
    "    xcat_encoded.drop(columns=cols, inplace=True)"
   ]
  },
  {
   "cell_type": "code",
   "execution_count": 297,
   "metadata": {},
   "outputs": [
    {
     "data": {
      "text/html": [
       "<div>\n",
       "<style scoped>\n",
       "    .dataframe tbody tr th:only-of-type {\n",
       "        vertical-align: middle;\n",
       "    }\n",
       "\n",
       "    .dataframe tbody tr th {\n",
       "        vertical-align: top;\n",
       "    }\n",
       "\n",
       "    .dataframe thead th {\n",
       "        text-align: right;\n",
       "    }\n",
       "</style>\n",
       "<table border=\"1\" class=\"dataframe\">\n",
       "  <thead>\n",
       "    <tr style=\"text-align: right;\">\n",
       "      <th></th>\n",
       "      <th>SEX</th>\n",
       "    </tr>\n",
       "    <tr>\n",
       "      <th>ID</th>\n",
       "      <th></th>\n",
       "    </tr>\n",
       "  </thead>\n",
       "  <tbody>\n",
       "    <tr>\n",
       "      <th>1</th>\n",
       "      <td>1</td>\n",
       "    </tr>\n",
       "    <tr>\n",
       "      <th>2</th>\n",
       "      <td>1</td>\n",
       "    </tr>\n",
       "    <tr>\n",
       "      <th>3</th>\n",
       "      <td>1</td>\n",
       "    </tr>\n",
       "    <tr>\n",
       "      <th>4</th>\n",
       "      <td>1</td>\n",
       "    </tr>\n",
       "    <tr>\n",
       "      <th>5</th>\n",
       "      <td>0</td>\n",
       "    </tr>\n",
       "    <tr>\n",
       "      <th>...</th>\n",
       "      <td>...</td>\n",
       "    </tr>\n",
       "    <tr>\n",
       "      <th>29996</th>\n",
       "      <td>0</td>\n",
       "    </tr>\n",
       "    <tr>\n",
       "      <th>29997</th>\n",
       "      <td>0</td>\n",
       "    </tr>\n",
       "    <tr>\n",
       "      <th>29998</th>\n",
       "      <td>0</td>\n",
       "    </tr>\n",
       "    <tr>\n",
       "      <th>29999</th>\n",
       "      <td>0</td>\n",
       "    </tr>\n",
       "    <tr>\n",
       "      <th>30000</th>\n",
       "      <td>0</td>\n",
       "    </tr>\n",
       "  </tbody>\n",
       "</table>\n",
       "<p>30000 rows × 1 columns</p>\n",
       "</div>"
      ],
      "text/plain": [
       "       SEX\n",
       "ID        \n",
       "1        1\n",
       "2        1\n",
       "3        1\n",
       "4        1\n",
       "5        0\n",
       "...    ...\n",
       "29996    0\n",
       "29997    0\n",
       "29998    0\n",
       "29999    0\n",
       "30000    0\n",
       "\n",
       "[30000 rows x 1 columns]"
      ]
     },
     "execution_count": 297,
     "metadata": {},
     "output_type": "execute_result"
    }
   ],
   "source": [
    "xcat_encoded"
   ]
  },
  {
   "cell_type": "markdown",
   "metadata": {},
   "source": [
    "# Train Test Split"
   ]
  },
  {
   "cell_type": "code",
   "execution_count": 303,
   "metadata": {},
   "outputs": [],
   "source": [
    "## Concat xcat and xnum\n",
    "x = pd.concat([xnum_clean, xcat_encoded], axis=1)"
   ]
  },
  {
   "cell_type": "code",
   "execution_count": 304,
   "metadata": {},
   "outputs": [
    {
     "data": {
      "text/plain": [
       "0    23364\n",
       "1     6636\n",
       "Name: default.payment.next.month, dtype: int64"
      ]
     },
     "execution_count": 304,
     "metadata": {},
     "output_type": "execute_result"
    }
   ],
   "source": [
    "y.value_counts()"
   ]
  },
  {
   "cell_type": "code",
   "execution_count": 305,
   "metadata": {},
   "outputs": [
    {
     "data": {
      "text/plain": [
       "7"
      ]
     },
     "execution_count": 305,
     "metadata": {},
     "output_type": "execute_result"
    }
   ],
   "source": [
    "x.isnull().any().sum()"
   ]
  },
  {
   "cell_type": "markdown",
   "metadata": {},
   "source": [
    "There are some nulls in the x, which we will need to imput at later stages, but as we have seen that the categorical data contains no null in previous steps, we will handle the nulls with numerical imputation methods. THe categories will not be affected due to the cleanness of the data."
   ]
  },
  {
   "cell_type": "code",
   "execution_count": 306,
   "metadata": {},
   "outputs": [],
   "source": [
    "x_train, x_test, y_train, y_test = train_test_split(x, y)"
   ]
  },
  {
   "cell_type": "code",
   "execution_count": 307,
   "metadata": {},
   "outputs": [],
   "source": [
    "imput = SimpleImputer(strategy='median')\n",
    "imput.fit(x_train)\n",
    "x_train_imp = pd.DataFrame(imput.transform(x_train), columns=x_train.columns, index = x_train.index)\n",
    "x_test_imp = pd.DataFrame(imput.transform(x_test), columns=x_test.columns, index = x_test.index)"
   ]
  },
  {
   "cell_type": "code",
   "execution_count": 308,
   "metadata": {},
   "outputs": [
    {
     "data": {
      "text/plain": [
       "0"
      ]
     },
     "execution_count": 308,
     "metadata": {},
     "output_type": "execute_result"
    }
   ],
   "source": [
    "x_train_imp.isnull().any().sum()"
   ]
  },
  {
   "cell_type": "markdown",
   "metadata": {},
   "source": [
    "Due to data imbalance, we will do some oversampling and undersampling methods, and finally will choose the best algorithm and sampling methods."
   ]
  },
  {
   "cell_type": "code",
   "execution_count": 309,
   "metadata": {},
   "outputs": [],
   "source": [
    "sm = SMOTE(random_state=108)\n",
    "tl = TomekLinks()\n",
    "x_train_ov, y_train_ov = sm.fit_resample(x_train_imp, y_train)\n",
    "x_train_un, y_train_un = tl.fit_resample(x_train_imp, y_train)"
   ]
  },
  {
   "cell_type": "code",
   "execution_count": 310,
   "metadata": {},
   "outputs": [],
   "source": [
    "dt = DecisionTreeClassifier(random_state=108)\n",
    "rf = RandomForestClassifier(random_state=108)\n",
    "gb = GradientBoostingClassifier(random_state=108)\n",
    "dt_param = {'criterion':('gini', 'entropy'), 'max_depth':[1, 3, 5, 10], 'min_samples_split':[2,4,8,16], 'min_samples_leaf':[1,2,4,6,8,10]}\n",
    "\n",
    "\n",
    "n_estimators = [10, 25, 50, 100]\n",
    "max_features = ['auto', 'sqrt']\n",
    "max_depth = [3, 5, 10, 12, None]\n",
    "min_samples_split = [2, 5, 10]\n",
    "min_samples_leaf = [1, 2, 4]\n",
    "\n",
    "rf_param = {'n_estimators': n_estimators, 'max_features':max_features, 'max_depth':max_depth, 'min_samples_split':min_samples_split,'min_samples_leaf':min_samples_leaf}\n",
    "\n",
    "learning_rates = [1, 0.5, 0.25, 0.1, 0.05, 0.01]\n",
    "gb_param = {'learning_rate':learning_rates, 'n_estimators': n_estimators, 'max_depth':max_depth, 'min_samples_split':min_samples_split,'min_samples_leaf':min_samples_leaf, 'max_features':max_features}"
   ]
  },
  {
   "cell_type": "code",
   "execution_count": 313,
   "metadata": {},
   "outputs": [
    {
     "ename": "KeyError",
     "evalue": "'rf'",
     "output_type": "error",
     "traceback": [
      "\u001b[1;31m---------------------------------------------------------------------------\u001b[0m",
      "\u001b[1;31mKeyError\u001b[0m                                  Traceback (most recent call last)",
      "\u001b[1;32m<ipython-input-313-ef58054674eb>\u001b[0m in \u001b[0;36m<module>\u001b[1;34m\u001b[0m\n\u001b[0;32m     52\u001b[0m \u001b[0mresult\u001b[0m\u001b[1;33m.\u001b[0m\u001b[0msort_values\u001b[0m\u001b[1;33m(\u001b[0m\u001b[1;34m'test_auc'\u001b[0m\u001b[1;33m,\u001b[0m \u001b[0mascending\u001b[0m\u001b[1;33m=\u001b[0m\u001b[1;32mFalse\u001b[0m\u001b[1;33m)\u001b[0m\u001b[1;33m.\u001b[0m\u001b[0mhead\u001b[0m\u001b[1;33m(\u001b[0m\u001b[1;36m1\u001b[0m\u001b[1;33m)\u001b[0m\u001b[1;33m\u001b[0m\u001b[1;33m\u001b[0m\u001b[0m\n\u001b[0;32m     53\u001b[0m \u001b[1;33m\u001b[0m\u001b[0m\n\u001b[1;32m---> 54\u001b[1;33m \u001b[0mfeatures\u001b[0m \u001b[1;33m=\u001b[0m \u001b[0mtrans\u001b[0m\u001b[1;33m[\u001b[0m\u001b[1;33m[\u001b[0m\u001b[0mresult\u001b[0m\u001b[1;33m.\u001b[0m\u001b[0msort_values\u001b[0m\u001b[1;33m(\u001b[0m\u001b[1;34m'test_auc'\u001b[0m\u001b[1;33m,\u001b[0m \u001b[0mascending\u001b[0m\u001b[1;33m=\u001b[0m\u001b[1;32mFalse\u001b[0m\u001b[1;33m)\u001b[0m\u001b[1;33m.\u001b[0m\u001b[0mhead\u001b[0m\u001b[1;33m(\u001b[0m\u001b[1;36m1\u001b[0m\u001b[1;33m)\u001b[0m\u001b[1;33m[\u001b[0m\u001b[1;34m'algo'\u001b[0m\u001b[1;33m]\u001b[0m\u001b[1;33m]\u001b[0m\u001b[1;33m[\u001b[0m\u001b[1;36m0\u001b[0m\u001b[1;33m]\u001b[0m\u001b[1;33m.\u001b[0m\u001b[0mvalues\u001b[0m\u001b[1;33m[\u001b[0m\u001b[1;36m0\u001b[0m\u001b[1;33m]\u001b[0m\u001b[1;33m]\u001b[0m\u001b[1;33m\u001b[0m\u001b[1;33m\u001b[0m\u001b[0m\n\u001b[0m",
      "\u001b[1;31mKeyError\u001b[0m: 'rf'"
     ]
    }
   ],
   "source": [
    "\n",
    "name = []\n",
    "k = []\n",
    "tr_auc = []\n",
    "te_auc = []\n",
    "method = []\n",
    "trans = dict()\n",
    "for data_used in [[x_train_ov, y_train_ov, 'oversampling'], [x_train_un, y_train_un, 'undersampling']]:\n",
    "    x_use = data_used[0]\n",
    "    y_use = data_used[1]\n",
    "    gdt = RandomizedSearchCV(dt, dt_param, n_jobs=-1, scoring='roc_auc', n_iter=15, random_state=108)\n",
    "    grf = RandomizedSearchCV(rf, rf_param, n_jobs=-1, scoring='roc_auc', n_iter=15, random_state=108)\n",
    "    ggb = RandomizedSearchCV(gb, gb_param, n_jobs=-1, scoring='roc_auc', n_iter=15, random_state=108)\n",
    "    new_dt = DecisionTreeClassifier(**gdt.fit(x_use, y_use).best_params_, random_state=108)\n",
    "    \n",
    "    new_rf = RandomForestClassifier(**grf.fit(x_use, y_use).best_params_, random_state=108)\n",
    "    \n",
    "    new_gb = GradientBoostingClassifier(**ggb.fit(x_use, y_use).best_params_, random_state=108)\n",
    "\n",
    "\n",
    "    for algo in [[new_dt, 'dt'], [new_rf, 'rf'], [new_gb, 'gb']]:\n",
    "        algo[0].fit(x_use, y_use)\n",
    "        current = 0\n",
    "        num = np.inf\n",
    "        usee = pd.DataFrame({'params':x_use.columns, 'importances':algo[0].feature_importances_}).sort_values('importances', ascending=False)\n",
    "        for kbest in [5, 10, 15, 25, 50]:\n",
    "            uses = usee.head(kbest)['params']\n",
    "            \n",
    "\n",
    "            x_tr_try= x_use[uses]\n",
    "            \n",
    "            hold = np.mean(cross_val_score(estimator=algo[0], X=x_tr_try, y=y_use, cv = 5, scoring = 'roc_auc'))\n",
    "            if hold > current:\n",
    "                current = hold\n",
    "                num = kbest\n",
    "                \n",
    "                sampling = data_used[2]\n",
    "            else:\n",
    "                None\n",
    "\n",
    "        x_tr_fin = x_use[usee.head(num)['params']]\n",
    "        x_te_fin = x_test_imp[usee.head(num)['params']]\n",
    "        \n",
    "        y_pred = algo[0].fit(x_tr_fin, y_use).predict_proba(x_te_fin)\n",
    "        store = roc_auc_score(y_test, y_pred[:,1])\n",
    "        name.append(algo[1])\n",
    "        k.append(num)\n",
    "        tr_auc.append(current)\n",
    "        te_auc.append(store)\n",
    "        method.append(sampling)\n",
    "\n",
    "result = pd.DataFrame({'algo':name, 'features':k, 'train_auc':tr_auc, 'test_auc':te_auc, 'method':method})\n",
    "result.sort_values('test_auc', ascending=False).head(1)\n",
    "\n"
   ]
  },
  {
   "cell_type": "code",
   "execution_count": 315,
   "metadata": {},
   "outputs": [],
   "source": [
    "choice = result.sort_values('test_auc', ascending=False)"
   ]
  },
  {
   "cell_type": "code",
   "execution_count": 316,
   "metadata": {},
   "outputs": [
    {
     "data": {
      "text/html": [
       "<div>\n",
       "<style scoped>\n",
       "    .dataframe tbody tr th:only-of-type {\n",
       "        vertical-align: middle;\n",
       "    }\n",
       "\n",
       "    .dataframe tbody tr th {\n",
       "        vertical-align: top;\n",
       "    }\n",
       "\n",
       "    .dataframe thead th {\n",
       "        text-align: right;\n",
       "    }\n",
       "</style>\n",
       "<table border=\"1\" class=\"dataframe\">\n",
       "  <thead>\n",
       "    <tr style=\"text-align: right;\">\n",
       "      <th></th>\n",
       "      <th>algo</th>\n",
       "      <th>features</th>\n",
       "      <th>train_auc</th>\n",
       "      <th>test_auc</th>\n",
       "      <th>method</th>\n",
       "    </tr>\n",
       "  </thead>\n",
       "  <tbody>\n",
       "    <tr>\n",
       "      <th>4</th>\n",
       "      <td>rf</td>\n",
       "      <td>50</td>\n",
       "      <td>0.782061</td>\n",
       "      <td>0.773779</td>\n",
       "      <td>undersampling</td>\n",
       "    </tr>\n",
       "    <tr>\n",
       "      <th>5</th>\n",
       "      <td>gb</td>\n",
       "      <td>50</td>\n",
       "      <td>0.777193</td>\n",
       "      <td>0.767276</td>\n",
       "      <td>undersampling</td>\n",
       "    </tr>\n",
       "    <tr>\n",
       "      <th>1</th>\n",
       "      <td>rf</td>\n",
       "      <td>25</td>\n",
       "      <td>0.929034</td>\n",
       "      <td>0.758730</td>\n",
       "      <td>oversampling</td>\n",
       "    </tr>\n",
       "    <tr>\n",
       "      <th>3</th>\n",
       "      <td>dt</td>\n",
       "      <td>50</td>\n",
       "      <td>0.770331</td>\n",
       "      <td>0.757353</td>\n",
       "      <td>undersampling</td>\n",
       "    </tr>\n",
       "    <tr>\n",
       "      <th>0</th>\n",
       "      <td>dt</td>\n",
       "      <td>5</td>\n",
       "      <td>0.893208</td>\n",
       "      <td>0.741079</td>\n",
       "      <td>oversampling</td>\n",
       "    </tr>\n",
       "    <tr>\n",
       "      <th>2</th>\n",
       "      <td>gb</td>\n",
       "      <td>50</td>\n",
       "      <td>0.939907</td>\n",
       "      <td>0.739376</td>\n",
       "      <td>oversampling</td>\n",
       "    </tr>\n",
       "  </tbody>\n",
       "</table>\n",
       "</div>"
      ],
      "text/plain": [
       "  algo  features  train_auc  test_auc         method\n",
       "4   rf        50   0.782061  0.773779  undersampling\n",
       "5   gb        50   0.777193  0.767276  undersampling\n",
       "1   rf        25   0.929034  0.758730   oversampling\n",
       "3   dt        50   0.770331  0.757353  undersampling\n",
       "0   dt         5   0.893208  0.741079   oversampling\n",
       "2   gb        50   0.939907  0.739376   oversampling"
      ]
     },
     "execution_count": 316,
     "metadata": {},
     "output_type": "execute_result"
    }
   ],
   "source": [
    "choice"
   ]
  },
  {
   "cell_type": "code",
   "execution_count": 345,
   "metadata": {},
   "outputs": [],
   "source": [
    "# new_rf.fit(x_train_un, y_train_un)\n",
    "# usee = pd.DataFrame({'params':x_train_un.columns, 'importances':new_rf.feature_importances_}).sort_values('importances', ascending=False)\n",
    "\n",
    "# uses = usee.head(50)['params']\n",
    "\n",
    "\n",
    "# x_tr_try= x_train_un[uses]\n",
    "\n",
    "prediction = new_rf.fit(x_tr_try, y_train_un).predict_proba(x_test_imp[uses])\n"
   ]
  },
  {
   "cell_type": "code",
   "execution_count": 327,
   "metadata": {},
   "outputs": [
    {
     "data": {
      "image/png": "[encoded data removed]",
      "text/plain": [
       "<Figure size 576x684 with 1 Axes>"
      ]
     },
     "metadata": {
      "needs_background": "light"
     },
     "output_type": "display_data"
    }
   ],
   "source": [
    "import shap\n",
    "explainer = shap.TreeExplainer(new_rf)\n",
    "shap_values = explainer.shap_values(x_tr_try)\n",
    "shap.summary_plot(shap_values, x_tr_try)\n"
   ]
  },
  {
   "cell_type": "code",
   "execution_count": 346,
   "metadata": {},
   "outputs": [
    {
     "data": {
      "image/png": "[encoded data removed]",
      "text/plain": [
       "<Figure size 576x288 with 1 Axes>"
      ]
     },
     "metadata": {
      "needs_background": "light"
     },
     "output_type": "display_data"
    }
   ],
   "source": [
    "skplt.metrics.plot_roc(y_test.values,prediction, figsize=[8,4], plot_micro=False)\n",
    "plt.show()"
   ]
  },
  {
   "cell_type": "code",
   "execution_count": 347,
   "metadata": {},
   "outputs": [],
   "source": [
    "def cum_gains(data, act, pred, prob):\n",
    "    data.sort_values(by=prob, ascending=False, inplace=True)\n",
    "    subset = data[data[pred]==1]\n",
    "    \n",
    "    rows=[]\n",
    "    for group in np.array_split(subset, 10):\n",
    "        score =  accuracy_score(group[act].tolist(),\n",
    "                                               group[pred].tolist(),\n",
    "                                               normalize=False)\n",
    "        try:\n",
    "            auroc = roc_auc_score(group[act], group[prob])\n",
    "        except:\n",
    "            auroc=0.5\n",
    "        tn, fp, fn, tp = confusion_matrix(group[act], group[pred]).ravel()\n",
    "        ppv = tp / (tp + fp)\n",
    "\n",
    "        sens = tp / (tp+fn)\n",
    "        \n",
    "        rows.append({'NumCases':len(group), 'NumCorrect': score, 'binauc':auroc, 'binppv':ppv, 'binsens':sens})\n",
    "        \n",
    "        \n",
    "    lift = pd.DataFrame(rows)\n",
    "    lift['RunningCorrect'] = lift['NumCorrect'].cumsum()\n",
    "    lift['PercentCorrect'] = lift.apply(lambda x: (100 / lift['NumCorrect'].sum()) * x['RunningCorrect'], axis=1)\n",
    "    lift['CumulativeCorrectBestCase'] = lift['NumCases'].cumsum()\n",
    "    lift['PercentCorrectBestCase'] = lift['CumulativeCorrectBestCase'].apply(lambda x: 100 if (100 / lift['NumCorrect'].sum()) * x > 100 else (100 / lift['NumCorrect'].sum()) * x)\n",
    "    lift['AvgCase'] = lift['NumCorrect'].sum() / len(lift)\n",
    "    lift['CumulativeAvgCase'] = lift['AvgCase'].cumsum()\n",
    "    lift['PercentAvgCase'] = lift['CumulativeAvgCase'].apply(lambda x: (100/ lift['NumCorrect'].sum()) * x)\n",
    "    \n",
    "    lift['NormalizedPercentAvg'] = 1\n",
    "    lift['NormalizedPercentWithModel'] = lift['PercentCorrect'] / lift['PercentAvgCase']\n",
    "    return lift\n",
    "\n",
    "def plot_lift(data):\n",
    "    plt.figure()\n",
    "    plt.plot(data['NormalizedPercentAvg'], 'r-', label='Normalized response rate with no model')\n",
    "    plt.plot(data['NormalizedPercentWithModel'], 'g-', marker='o', label='Normalized response rate with model')\n",
    "    plt.legend()\n",
    "    plt.show()\n",
    "    \n",
    "def plot_cumulative_gains(data):\n",
    "    fig, ax = plt.subplots()\n",
    "    fig.canvas.draw()\n",
    "    handles = []\n",
    "    handles.append(ax.plot(data['PercentCorrect'], 'r-', marker='o', label='Percent Correct Predictions'))\n",
    "    handles.append(ax.plot(data['PercentCorrectBestCase'], 'g-', label='Best case for current model'))\n",
    "    handles.append(ax.plot(data['PercentAvgCase'], 'b-', label='Average Case for current model'))\n",
    "    ax.set_xlabel('Total Population (%)')\n",
    "    ax.set_ylabel('Number of Respondent (%)')\n",
    "    \n",
    "    ax.set_xlim([0,9])\n",
    "    ax.set_ylim([10,110])\n",
    "#     print([str(item.get_text()) for item in ax.get_xticklabels()])\n",
    "# #     print([item.get_text() for item in ax.get_xticklabels()])\n",
    "#     labels = [str((label+1)*10) for label in [str(item.get_text()) for item in ax.get_xticklabels()]]\n",
    "#     ax.set_xticklabels(labels)\n",
    "    \n",
    "    fig.legend(handles, labels=[h[0].get_label() for h in handles])\n",
    "    fig.show()"
   ]
  },
  {
   "cell_type": "code",
   "execution_count": 349,
   "metadata": {},
   "outputs": [
    {
     "name": "stderr",
     "output_type": "stream",
     "text": [
      "You have mixed positional and keyword arguments, some input may be discarded.\n",
      "Matplotlib is currently using module://ipykernel.pylab.backend_inline, which is a non-GUI backend, so cannot show the figure.\n"
     ]
    },
    {
     "data": {
      "image/png": "[encoded data removed]",
      "text/plain": [
       "<Figure size 432x288 with 1 Axes>"
      ]
     },
     "metadata": {
      "needs_background": "light"
     },
     "output_type": "display_data"
    },
    {
     "data": {
      "image/png": "[encoded data removed]",
      "text/plain": [
       "<Figure size 432x288 with 1 Axes>"
      ]
     },
     "metadata": {
      "needs_background": "light"
     },
     "output_type": "display_data"
    }
   ],
   "source": [
    "\n",
    "\n",
    "to_data = pd.DataFrame({'actual':y_test, 'pred':prediction[:,1]})\n",
    "to_data.loc[to_data['pred']>0.5, 'result'] = 1\n",
    "to_data.fillna(0, inplace=True)\n",
    "cg = cum_gains(to_data, 'actual', 'result', 'pred')\n",
    "cg.to_csv('CG.csv', index=False)\n",
    "plot_cumulative_gains(cg)\n",
    "plot_lift(cg)\n",
    "result.to_csv('result.csv', index=False)"
   ]
  },
  {
   "cell_type": "code",
   "execution_count": 351,
   "metadata": {},
   "outputs": [
    {
     "data": {
      "image/png": "[encoded data removed]",
      "text/plain": [
       "<Figure size 576x288 with 1 Axes>"
      ]
     },
     "metadata": {
      "needs_background": "light"
     },
     "output_type": "display_data"
    }
   ],
   "source": [
    "fig, ax = plt.subplots(figsize=[8,4])\n",
    "cg['perc'] = cg['NumCorrect']/cg['AvgCase']\n",
    "ax = cg['perc'].plot.bar()\n",
    "\n",
    "ax.set_title('Decile Plot')\n",
    "plt.tight_layout()\n",
    "plt.subplots_adjust(top=0.88)\n",
    "\n"
   ]
  },
  {
   "cell_type": "code",
   "execution_count": null,
   "metadata": {},
   "outputs": [],
   "source": []
  }
 ],
 "metadata": {
  "kernelspec": {
   "display_name": "Python 3",
   "language": "python",
   "name": "python3"
  },
  "language_info": {
   "codemirror_mode": {
    "name": "ipython",
    "version": 3
   },
   "file_extension": ".py",
   "mimetype": "text/x-python",
   "name": "python",
   "nbconvert_exporter": "python",
   "pygments_lexer": "ipython3",
   "version": "3.7.4"
  }
 },
 "nbformat": 4,
 "nbformat_minor": 2
}
