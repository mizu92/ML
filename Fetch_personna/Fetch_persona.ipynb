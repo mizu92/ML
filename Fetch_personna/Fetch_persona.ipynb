{
 "cells": [
  {
   "cell_type": "code",
   "execution_count": 1,
   "metadata": {},
   "outputs": [],
   "source": [
    "import pandas as pd\n",
    "from googlesearch import searchfrom googlesearch import search"
   ]
  },
  {
   "cell_type": "code",
   "execution_count": 90,
   "metadata": {},
   "outputs": [],
   "source": [
    "def get_name(feed, query):\n",
    "    test = query[0:4]\n",
    "    if test.lower() in feed:\n",
    "        b = 'Yes'\n",
    "    else:\n",
    "        b = \"No\"\n",
    "    return b"
   ]
  },
  {
   "cell_type": "code",
   "execution_count": 117,
   "metadata": {},
   "outputs": [],
   "source": [
    "def get_type(feed):\n",
    "    if 'linkedin' in feed:\n",
    "        a = 'linkedin'\n",
    "    elif 'twitter' in feed:\n",
    "        a = 'twitter'\n",
    "    elif 'facebook' in feed:\n",
    "        a = 'facebook'\n",
    "    elif 'instagram' in feed:\n",
    "        a = 'instagram'\n",
    "    else:\n",
    "        a = 'None'\n",
    "\n",
    "    return a"
   ]
  },
  {
   "cell_type": "code",
   "execution_count": 118,
   "metadata": {
    "tags": []
   },
   "outputs": [],
   "source": [
    "\n",
    "def get_result(query):\n",
    "    store = []\n",
    "    for j in search(query, tld=\"com\", num=25, stop=25, pause=1): \n",
    "        store.append(j.lower())\n",
    "        g = pd.DataFrame({'query':query, 'url':store})\n",
    "        g['type'] = g.apply(lambda x: get_type(x['url']), axis=1)\n",
    "        g['own'] = g.apply(lambda x: get_name(x['url'], query), axis=1)\n",
    "        g = g[(g['type'] != \"None\") & (g['own'] == 'Yes')]\n",
    "    return g"
   ]
  },
  {
   "cell_type": "code",
   "execution_count": 119,
   "metadata": {
    "tags": []
   },
   "outputs": [
    {
     "output_type": "stream",
     "name": "stdout",
     "text": "Wall time: 27.5 s\n"
    }
   ],
   "source": [
    "%%time\n",
    "names = ['Sintyadi Thong', 'Pandji Fareza', 'Rizqiari Ikram', 'Nurul Maghfirah', 'Jofinno Herian', 'Agnes Caecilia Catherine Handoko', 'Sonna Lobo']\n",
    "\n",
    "mydf = pd.DataFrame()\n",
    "for get in names:\n",
    "    mydf = pd.concat([mydf, get_result(get)], ignore_index=True)\n",
    "mydf.drop_duplicates(subset=['query','type'], inplace=True)"
   ]
  },
  {
   "cell_type": "code",
   "execution_count": 120,
   "metadata": {},
   "outputs": [
    {
     "output_type": "execute_result",
     "data": {
      "text/plain": "                               query  \\\n0                     Sintyadi Thong   \n1                      Pandji Fareza   \n2                      Pandji Fareza   \n3                      Pandji Fareza   \n5                     Rizqiari Ikram   \n6                     Rizqiari Ikram   \n9                    Nurul Maghfirah   \n11                   Nurul Maghfirah   \n12                   Nurul Maghfirah   \n13                    Jofinno Herian   \n14                    Jofinno Herian   \n15                    Jofinno Herian   \n17                    Jofinno Herian   \n18  Agnes Caecilia Catherine Handoko   \n\n                                                  url       type  own  \n0          https://twitter.com/sintyadi/media?lang=en    twitter  Yes  \n1   https://id.linkedin.com/in/pandji-a-fareza-b90...   linkedin  Yes  \n2                      https://twitter.com/pandjireza    twitter  Yes  \n3   https://id-id.facebook.com/public/pandji-ahmad...   facebook  Yes  \n5                 https://id.linkedin.com/in/rizqiari   linkedin  Yes  \n6           https://id-id.facebook.com/rizqiari.ikram   facebook  Yes  \n9     https://www.facebook.com/public/nurul-maghfirah   facebook  Yes  \n11   https://www.linkedin.com/pub/dir/nurul/maghfirah   linkedin  Yes  \n12        https://twitter.com/maghfirah_nurul?lang=en    twitter  Yes  \n13           https://id.linkedin.com/in/jofinnoherian   linkedin  Yes  \n14                https://twitter.com/jofinno?lang=en    twitter  Yes  \n15                   https://www.facebook.com/jofinno   facebook  Yes  \n17           https://www.instagram.com/jofinnoherian/  instagram  Yes  \n18  https://id.linkedin.com/in/agnes-c-catherine-h...   linkedin  Yes  ",
      "text/html": "<div>\n<style scoped>\n    .dataframe tbody tr th:only-of-type {\n        vertical-align: middle;\n    }\n\n    .dataframe tbody tr th {\n        vertical-align: top;\n    }\n\n    .dataframe thead th {\n        text-align: right;\n    }\n</style>\n<table border=\"1\" class=\"dataframe\">\n  <thead>\n    <tr style=\"text-align: right;\">\n      <th></th>\n      <th>query</th>\n      <th>url</th>\n      <th>type</th>\n      <th>own</th>\n    </tr>\n  </thead>\n  <tbody>\n    <tr>\n      <th>0</th>\n      <td>Sintyadi Thong</td>\n      <td>https://twitter.com/sintyadi/media?lang=en</td>\n      <td>twitter</td>\n      <td>Yes</td>\n    </tr>\n    <tr>\n      <th>1</th>\n      <td>Pandji Fareza</td>\n      <td>https://id.linkedin.com/in/pandji-a-fareza-b90...</td>\n      <td>linkedin</td>\n      <td>Yes</td>\n    </tr>\n    <tr>\n      <th>2</th>\n      <td>Pandji Fareza</td>\n      <td>https://twitter.com/pandjireza</td>\n      <td>twitter</td>\n      <td>Yes</td>\n    </tr>\n    <tr>\n      <th>3</th>\n      <td>Pandji Fareza</td>\n      <td>https://id-id.facebook.com/public/pandji-ahmad...</td>\n      <td>facebook</td>\n      <td>Yes</td>\n    </tr>\n    <tr>\n      <th>5</th>\n      <td>Rizqiari Ikram</td>\n      <td>https://id.linkedin.com/in/rizqiari</td>\n      <td>linkedin</td>\n      <td>Yes</td>\n    </tr>\n    <tr>\n      <th>6</th>\n      <td>Rizqiari Ikram</td>\n      <td>https://id-id.facebook.com/rizqiari.ikram</td>\n      <td>facebook</td>\n      <td>Yes</td>\n    </tr>\n    <tr>\n      <th>9</th>\n      <td>Nurul Maghfirah</td>\n      <td>https://www.facebook.com/public/nurul-maghfirah</td>\n      <td>facebook</td>\n      <td>Yes</td>\n    </tr>\n    <tr>\n      <th>11</th>\n      <td>Nurul Maghfirah</td>\n      <td>https://www.linkedin.com/pub/dir/nurul/maghfirah</td>\n      <td>linkedin</td>\n      <td>Yes</td>\n    </tr>\n    <tr>\n      <th>12</th>\n      <td>Nurul Maghfirah</td>\n      <td>https://twitter.com/maghfirah_nurul?lang=en</td>\n      <td>twitter</td>\n      <td>Yes</td>\n    </tr>\n    <tr>\n      <th>13</th>\n      <td>Jofinno Herian</td>\n      <td>https://id.linkedin.com/in/jofinnoherian</td>\n      <td>linkedin</td>\n      <td>Yes</td>\n    </tr>\n    <tr>\n      <th>14</th>\n      <td>Jofinno Herian</td>\n      <td>https://twitter.com/jofinno?lang=en</td>\n      <td>twitter</td>\n      <td>Yes</td>\n    </tr>\n    <tr>\n      <th>15</th>\n      <td>Jofinno Herian</td>\n      <td>https://www.facebook.com/jofinno</td>\n      <td>facebook</td>\n      <td>Yes</td>\n    </tr>\n    <tr>\n      <th>17</th>\n      <td>Jofinno Herian</td>\n      <td>https://www.instagram.com/jofinnoherian/</td>\n      <td>instagram</td>\n      <td>Yes</td>\n    </tr>\n    <tr>\n      <th>18</th>\n      <td>Agnes Caecilia Catherine Handoko</td>\n      <td>https://id.linkedin.com/in/agnes-c-catherine-h...</td>\n      <td>linkedin</td>\n      <td>Yes</td>\n    </tr>\n  </tbody>\n</table>\n</div>"
     },
     "metadata": {},
     "execution_count": 120
    }
   ],
   "source": [
    "mydf"
   ]
  },
  {
   "cell_type": "code",
   "execution_count": null,
   "metadata": {},
   "outputs": [],
   "source": []
  }
 ],
 "metadata": {
  "language_info": {
   "codemirror_mode": {
    "name": "ipython",
    "version": 3
   },
   "file_extension": ".py",
   "mimetype": "text/x-python",
   "name": "python",
   "nbconvert_exporter": "python",
   "pygments_lexer": "ipython3",
   "version": 3
  },
  "orig_nbformat": 2,
  "kernelspec": {
   "name": "python_defaultSpec_1594794600476",
   "display_name": "Python 3.7.4 64-bit ('base': conda)"
  }
 },
 "nbformat": 4,
 "nbformat_minor": 2
}