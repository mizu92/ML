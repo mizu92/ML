{
  "nbformat": 4,
  "nbformat_minor": 0,
  "metadata": {
    "colab": {
      "name": "Sentiment.ipynb",
      "version": "0.3.2",
      "provenance": [],
      "collapsed_sections": [],
      "include_colab_link": true
    },
    "kernelspec": {
      "name": "python3",
      "display_name": "Python 3"
    }
  },
  "cells": [
    {
      "cell_type": "markdown",
      "metadata": {
        "id": "view-in-github",
        "colab_type": "text"
      },
      "source": [
        "[View in Colaboratory](https://colab.research.google.com/github/mizunashi92/dlhub/blob/master/Sentiment.ipynb)"
      ]
    },
    {
      "metadata": {
        "id": "ddnua-UY4f4x",
        "colab_type": "code",
        "colab": {}
      },
      "cell_type": "code",
      "source": [
        "import sys\n",
        "import re\n",
        "!git clone https://github.com/openai/generating-reviews-discovering-sentiment.git\n",
        "import numpy as np\n",
        "import pandas as pd\n",
        "from google.colab import files\n",
        "!pip install reactionrnn"
      ],
      "execution_count": 0,
      "outputs": []
    },
    {
      "metadata": {
        "id": "xACQ5YSQ4k7G",
        "colab_type": "code",
        "colab": {}
      },
      "cell_type": "code",
      "source": [
        "'''\n",
        "Google Translate based on codes by mouuff at https://github.com/mouuff/mtranslate\n",
        "'''\n",
        "if (sys.version_info[0] < 3):\n",
        "    import urllib2\n",
        "    import urllib\n",
        "    import HTMLParser\n",
        "else:\n",
        "    import html.parser\n",
        "    import urllib.request\n",
        "    import urllib.parse\n",
        "\n",
        "agent = {'User-Agent':\n",
        "\"Mozilla/4.0 (\\\n",
        "compatible;\\\n",
        "MSIE 6.0;\\\n",
        "Windows NT 5.1;\\\n",
        "SV1;\\\n",
        ".NET CLR 1.1.4322;\\\n",
        ".NET CLR 2.0.50727;\\\n",
        ".NET CLR 3.0.04506.30\\\n",
        ")\"}\n",
        "\n",
        "\n",
        "def unescape(text):\n",
        "    if (sys.version_info[0] < 3):\n",
        "        parser = HTMLParser.HTMLParser()\n",
        "    else:\n",
        "        parser = html.parser.HTMLParser()\n",
        "    return (parser.unescape(text))\n",
        "\n",
        "\n",
        "def translate(to_translate, to_language=\"auto\", from_language=\"auto\"):\n",
        "    \"\"\"Returns the translation using google translate\n",
        "    you must shortcut the language you define\n",
        "    (French = fr, English = en, Spanish = es, etc...)\n",
        "    if not defined it will detect it or use english by default\n",
        "    Example:\n",
        "    print(translate(\"salut tu vas bien?\", \"en\"))\n",
        "    hello you alright?\n",
        "    \"\"\"\n",
        "    base_link = \"http://translate.google.com/m?hl=%s&sl=%s&q=%s\"\n",
        "    if (sys.version_info[0] < 3):\n",
        "        to_translate = urllib.quote_plus(to_translate)\n",
        "        link = base_link % (to_language, from_language, to_translate)\n",
        "        request = urllib2.Request(link, headers=agent)\n",
        "        raw_data = urllib2.urlopen(request).read()\n",
        "    else:\n",
        "        to_translate = urllib.parse.quote(to_translate)\n",
        "        link = base_link % (to_language, from_language, to_translate)\n",
        "        request = urllib.request.Request(link, headers=agent)\n",
        "        raw_data = urllib.request.urlopen(request).read()\n",
        "    data = raw_data.decode(\"utf-8\")\n",
        "    expr = r'class=\"t0\">(.*?)<'\n",
        "    re_result = re.findall(expr, data)\n",
        "    if (len(re_result) == 0):\n",
        "        result = \"\"\n",
        "    else:\n",
        "        result = unescape(re_result[0])\n",
        "    return (result)"
      ],
      "execution_count": 0,
      "outputs": []
    },
    {
      "metadata": {
        "id": "LLyEl-nm4utR",
        "colab_type": "code",
        "colab": {
          "resources": {
            "http://localhost:8080/nbextensions/google.colab/files.js": {
              "data": "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",
              "ok": true,
              "headers": [
                [
                  "content-type",
                  "application/javascript"
                ]
              ],
              "status": 200,
              "status_text": ""
            }
          },
          "base_uri": "https://localhost:8080/",
          "height": 89
        },
        "outputId": "53237d49-d696-43ef-dbe4-8ee237efa0fc"
      },
      "cell_type": "code",
      "source": [
        "from google.colab import files\n",
        "\n",
        "uploaded = files.upload()\n",
        "\n",
        "for fn in uploaded.keys():\n",
        "  print('User uploaded file \"{name}\" with length {length} bytes'.format(\n",
        "      name=fn, length=len(uploaded[fn])))"
      ],
      "execution_count": 16,
      "outputs": [
        {
          "output_type": "display_data",
          "data": {
            "text/html": [
              "\n",
              "     <input type=\"file\" id=\"files-a1236200-d2f5-409d-93b8-c3eb513c721e\" name=\"files[]\" multiple disabled />\n",
              "     <output id=\"result-a1236200-d2f5-409d-93b8-c3eb513c721e\">\n",
              "      Upload widget is only available when the cell has been executed in the\n",
              "      current browser session. Please rerun this cell to enable.\n",
              "      </output>\n",
              "      <script src=\"/nbextensions/google.colab/files.js\"></script> "
            ],
            "text/plain": [
              "<IPython.core.display.HTML object>"
            ]
          },
          "metadata": {
            "tags": []
          }
        },
        {
          "output_type": "stream",
          "text": [
            "Saving datasource.csv to datasource.csv\n",
            "User uploaded file \"datasource.csv\" with length 4100882 bytes\n"
          ],
          "name": "stdout"
        }
      ]
    },
    {
      "metadata": {
        "id": "eUqngxj84x3G",
        "colab_type": "code",
        "colab": {}
      },
      "cell_type": "code",
      "source": [
        "data = pd.read_csv(\"datasource.csv\", sep='|')\n",
        "data = data.drop_duplicates(subset='tweet_id', keep=\"last\")"
      ],
      "execution_count": 0,
      "outputs": []
    },
    {
      "metadata": {
        "id": "rA_9Orhbx8sY",
        "colab_type": "code",
        "colab": {}
      },
      "cell_type": "code",
      "source": [
        "english = []\n",
        "for i in range(len(data)):\n",
        "    a = data['tweet_text'].iat[i].lower().replace('#indonesiatanpastres','').replace('\\n',' ').replace('  ',' ')\n",
        "    english.append(a)\n",
        "    \n",
        "english_tweet = []\n",
        "for i in range(len(english)):\n",
        "    b = translate(english[i])\n",
        "    english_tweet.append(b)\n",
        "    if i%50 == 0:\n",
        "        print('The machine has pre-processed {n} data. There are {s} data left'.format(n=i, s=len(english)-i))"
      ],
      "execution_count": 0,
      "outputs": []
    },
    {
      "metadata": {
        "id": "Z4_XlAxA4-1s",
        "colab_type": "text"
      },
      "cell_type": "markdown",
      "source": [
        "<h2>Working on the Sentiment Analysis Part</h2>"
      ]
    },
    {
      "metadata": {
        "id": "nQ6N-qVvzGs0",
        "colab_type": "code",
        "colab": {
          "base_uri": "https://localhost:8080/",
          "height": 34
        },
        "outputId": "db5d0cbf-e46f-46a3-8d4f-6f86bc4fa34d"
      },
      "cell_type": "code",
      "source": [
        "%cd generating-reviews-discovering-sentiment"
      ],
      "execution_count": 22,
      "outputs": [
        {
          "output_type": "stream",
          "text": [
            "/content/generating-reviews-discovering-sentiment/generating-reviews-discovering-sentiment\n"
          ],
          "name": "stdout"
        }
      ]
    },
    {
      "metadata": {
        "id": "d8qNn5i4zIVQ",
        "colab_type": "code",
        "colab": {
          "base_uri": "https://localhost:8080/",
          "height": 34
        },
        "outputId": "5ede0f31-a3f4-4eba-b799-36e6c5e4d25e"
      },
      "cell_type": "code",
      "source": [
        "!pip install tqdm"
      ],
      "execution_count": 23,
      "outputs": [
        {
          "output_type": "stream",
          "text": [
            "Requirement already satisfied: tqdm in /usr/local/lib/python3.6/dist-packages (4.26.0)\n"
          ],
          "name": "stdout"
        }
      ]
    },
    {
      "metadata": {
        "id": "vxshJVZkzKiM",
        "colab_type": "code",
        "colab": {}
      },
      "cell_type": "code",
      "source": [
        "from encoder import Model\n",
        "\n",
        "model = Model()"
      ],
      "execution_count": 0,
      "outputs": []
    },
    {
      "metadata": {
        "id": "Pf_p_q4xzM65",
        "colab_type": "code",
        "colab": {
          "base_uri": "https://localhost:8080/",
          "height": 34
        },
        "outputId": "baca9620-f4ab-4f99-b924-da0e47a3791b"
      },
      "cell_type": "code",
      "source": [
        "'''\n",
        "We will loop through the english tweets to get the reaction predictions and store them in text_features array\n",
        "'''\n",
        "text_features = model.transform(english_tweet)\n"
      ],
      "execution_count": 25,
      "outputs": [
        {
          "output_type": "stream",
          "text": [
            "627.226 seconds to transform 829 examples\n"
          ],
          "name": "stdout"
        }
      ]
    },
    {
      "metadata": {
        "id": "mV02dIBnz2c8",
        "colab_type": "code",
        "colab": {}
      },
      "cell_type": "code",
      "source": [
        "a = text_features[:, 2388]"
      ],
      "execution_count": 0,
      "outputs": []
    },
    {
      "metadata": {
        "id": "uHyBI6oHElte",
        "colab_type": "code",
        "colab": {}
      },
      "cell_type": "code",
      "source": [
        "'''\n",
        "We will re-combine the values with the initial comments in original language for easy readings.\n",
        "'''\n",
        "b = data.index.get_values() #collect the indexes of the original table\n",
        "data2 = pd.DataFrame(data=a[0:], index=b[0:], columns=['Value']) #Saving the results as a new pd dataframe based on the index of original file stored on b\n",
        "data3 = pd.DataFrame(data=np.array(english)[0:], index = b[0:], columns=['tweet_text']) #Fetch the original tweet texts as a new pandas dataframe\n",
        "\n"
      ],
      "execution_count": 0,
      "outputs": []
    },
    {
      "metadata": {
        "id": "QMjQUHXt5MCX",
        "colab_type": "text"
      },
      "cell_type": "markdown",
      "source": [
        "<h2>Working on the Reaction Analysis</h2>"
      ]
    },
    {
      "metadata": {
        "id": "DFRoXlHF5ch5",
        "colab_type": "code",
        "colab": {}
      },
      "cell_type": "code",
      "source": [
        "!wget https://modeldepot.io/assets/uploads/models/models/e76620d2-41b0-4876-a4ba-d51388fe3444_reactionrnn_weights.hdf5\n",
        "from reactionrnn import reactionrnn\n",
        "reaction_weights='e76620d2-41b0-4876-a4ba-d51388fe3444_reactionrnn_weights.hdf5'\n",
        "react = reactionrnn(reaction_weights)"
      ],
      "execution_count": 0,
      "outputs": []
    },
    {
      "metadata": {
        "id": "orxhFncv5luX",
        "colab_type": "code",
        "colab": {}
      },
      "cell_type": "code",
      "source": [
        "'''\n",
        "We will loop through the english tweets to get the reaction predictions and store them in ro array\n",
        "'''\n",
        "ro =[]\n",
        "for i in range(len(english_tweet)):\n",
        "  ve = react.predict(english_tweet[i])\n",
        "  ro.append(ve)\n",
        "  "
      ],
      "execution_count": 0,
      "outputs": []
    },
    {
      "metadata": {
        "id": "WwyFxuvnDX24",
        "colab_type": "code",
        "colab": {}
      },
      "cell_type": "code",
      "source": [
        "data10 = pd.DataFrame(data=np.array(ro)[0:], index=b[0:], columns=['emo']) #Saving the results as a new pd dataframe based on the index of original file stored on b"
      ],
      "execution_count": 0,
      "outputs": []
    },
    {
      "metadata": {
        "id": "wz1SKR856Zx3",
        "colab_type": "text"
      },
      "cell_type": "markdown",
      "source": [
        "<h2>Create the result table</h2>"
      ]
    },
    {
      "metadata": {
        "id": "ylwqIHgRD9yF",
        "colab_type": "code",
        "colab": {}
      },
      "cell_type": "code",
      "source": [
        "result_table = pd.concat([data3, data2, data10], axis=1)"
      ],
      "execution_count": 0,
      "outputs": []
    },
    {
      "metadata": {
        "id": "H875p1rUFMuH",
        "colab_type": "code",
        "colab": {}
      },
      "cell_type": "code",
      "source": [
        "result_table.to_csv('result2.csv', sep =\"|\", encoding='utf-8')"
      ],
      "execution_count": 0,
      "outputs": []
    },
    {
      "metadata": {
        "id": "Eq9d5a7qIC4W",
        "colab_type": "code",
        "colab": {}
      },
      "cell_type": "code",
      "source": [
        "files.download('result2.csv')"
      ],
      "execution_count": 0,
      "outputs": []
    },
    {
      "metadata": {
        "id": "1CpDzErsT-0Y",
        "colab_type": "code",
        "colab": {
          "base_uri": "https://localhost:8080/",
          "height": 1969
        },
        "outputId": "51a7ce21-34f5-4160-f6f3-f2283b378838"
      },
      "cell_type": "code",
      "source": [
        "result_table"
      ],
      "execution_count": 133,
      "outputs": [
        {
          "output_type": "execute_result",
          "data": {
            "text/html": [
              "<div>\n",
              "<style scoped>\n",
              "    .dataframe tbody tr th:only-of-type {\n",
              "        vertical-align: middle;\n",
              "    }\n",
              "\n",
              "    .dataframe tbody tr th {\n",
              "        vertical-align: top;\n",
              "    }\n",
              "\n",
              "    .dataframe thead th {\n",
              "        text-align: right;\n",
              "    }\n",
              "</style>\n",
              "<table border=\"1\" class=\"dataframe\">\n",
              "  <thead>\n",
              "    <tr style=\"text-align: right;\">\n",
              "      <th></th>\n",
              "      <th>tweet_text</th>\n",
              "      <th>Value</th>\n",
              "      <th>emo</th>\n",
              "    </tr>\n",
              "  </thead>\n",
              "  <tbody>\n",
              "    <tr>\n",
              "      <th>5</th>\n",
              "      <td>rt @oriorio22: trainingnya gausah dibawa seriu...</td>\n",
              "      <td>-0.050398</td>\n",
              "      <td>{'love': 0.8395, 'wow': 0.0814, 'haha': 0.0791...</td>\n",
              "    </tr>\n",
              "    <tr>\n",
              "      <th>6</th>\n",
              "      <td>mau kuliah gratis di jerman? baca ini dulu! ht...</td>\n",
              "      <td>0.329331</td>\n",
              "      <td>{'love': 0.5483, 'wow': 0.347, 'sad': 0.1048, ...</td>\n",
              "    </tr>\n",
              "    <tr>\n",
              "      <th>7</th>\n",
              "      <td>ga mikir aneh2.. syukuri apa adanya.. hilangi...</td>\n",
              "      <td>0.016488</td>\n",
              "      <td>{'love': 0.504, 'haha': 0.4437, 'wow': 0.0523,...</td>\n",
              "    </tr>\n",
              "    <tr>\n",
              "      <th>8</th>\n",
              "      <td>rt @archtechnoyd: : 1. ketuhanan y.m.e 2. kema...</td>\n",
              "      <td>-0.048879</td>\n",
              "      <td>{'love': 0.8326, 'haha': 0.0982, 'wow': 0.0691...</td>\n",
              "    </tr>\n",
              "    <tr>\n",
              "      <th>13</th>\n",
              "      <td>rt @breflywesly18: : 1. ga perlu kerja mati-ma...</td>\n",
              "      <td>0.114726</td>\n",
              "      <td>{'love': 0.5368, 'wow': 0.1819, 'angry': 0.158...</td>\n",
              "    </tr>\n",
              "    <tr>\n",
              "      <th>14</th>\n",
              "      <td>nonton spongebob</td>\n",
              "      <td>-0.020496</td>\n",
              "      <td>{'love': 0.728, 'haha': 0.2038, 'wow': 0.0681,...</td>\n",
              "    </tr>\n",
              "    <tr>\n",
              "      <th>15</th>\n",
              "      <td>suka banget sama hestek twitter hari ini :d ha...</td>\n",
              "      <td>0.093560</td>\n",
              "      <td>{'haha': 0.8436, 'love': 0.1443, 'wow': 0.0121...</td>\n",
              "    </tr>\n",
              "    <tr>\n",
              "      <th>16</th>\n",
              "      <td>akan terwujud bila pemimpin &amp;amp; rakyatnya d...</td>\n",
              "      <td>0.306276</td>\n",
              "      <td>{'love': 0.8823, 'haha': 0.0707, 'wow': 0.047,...</td>\n",
              "    </tr>\n",
              "    <tr>\n",
              "      <th>18</th>\n",
              "      <td>hidup bahagia saja.. susah lewati saja..</td>\n",
              "      <td>0.565432</td>\n",
              "      <td>{'haha': 0.6492, 'love': 0.2389, 'wow': 0.1119...</td>\n",
              "    </tr>\n",
              "    <tr>\n",
              "      <th>19</th>\n",
              "      <td>trainingnya gausah dibawa serius kali haha</td>\n",
              "      <td>0.067736</td>\n",
              "      <td>{'haha': 0.6251, 'love': 0.2174, 'wow': 0.1575...</td>\n",
              "    </tr>\n",
              "    <tr>\n",
              "      <th>20</th>\n",
              "      <td>situs poker online terpercaya https://t.co/k4a...</td>\n",
              "      <td>0.242628</td>\n",
              "      <td>{'haha': 0.6552, 'love': 0.3407, 'wow': 0.0041...</td>\n",
              "    </tr>\n",
              "    <tr>\n",
              "      <th>21</th>\n",
              "      <td>bisa melakukan hal2 kecil : 1. wisata kuliner...</td>\n",
              "      <td>-0.108850</td>\n",
              "      <td>{'love': 0.5264, 'wow': 0.4736, 'haha': 0.0, '...</td>\n",
              "    </tr>\n",
              "    <tr>\n",
              "      <th>22</th>\n",
              "      <td>rt @breflywesly18: : 1. ga perlu kerja mati-ma...</td>\n",
              "      <td>0.114726</td>\n",
              "      <td>{'love': 0.5368, 'wow': 0.1819, 'angry': 0.158...</td>\n",
              "    </tr>\n",
              "    <tr>\n",
              "      <th>23</th>\n",
              "      <td>1. saling menghormati 2. kwalitas pendidikan ...</td>\n",
              "      <td>-0.028436</td>\n",
              "      <td>{'love': 0.638, 'wow': 0.3308, 'angry': 0.0312...</td>\n",
              "    </tr>\n",
              "    <tr>\n",
              "      <th>24</th>\n",
              "      <td>agen bola - jadwal pertandingan bola tanggal 0...</td>\n",
              "      <td>0.186399</td>\n",
              "      <td>{'love': 0.7851, 'wow': 0.0954, 'sad': 0.0778,...</td>\n",
              "    </tr>\n",
              "    <tr>\n",
              "      <th>25</th>\n",
              "      <td>kebahagiaan rasa hanya bisa dilakukan dengan ...</td>\n",
              "      <td>0.470771</td>\n",
              "      <td>{'haha': 0.3961, 'love': 0.3774, 'wow': 0.2265...</td>\n",
              "    </tr>\n",
              "    <tr>\n",
              "      <th>26</th>\n",
              "      <td>rt @em_amir_nihat: kebahagiaan rasa hanya bisa...</td>\n",
              "      <td>-0.025805</td>\n",
              "      <td>{'love': 0.9054, 'wow': 0.0664, 'haha': 0.0282...</td>\n",
              "    </tr>\n",
              "    <tr>\n",
              "      <th>27</th>\n",
              "      <td>rt @satriaoo: keren nih permatamobile x. bisa ...</td>\n",
              "      <td>0.068883</td>\n",
              "      <td>{'love': 0.4927, 'haha': 0.2544, 'wow': 0.2319...</td>\n",
              "    </tr>\n",
              "    <tr>\n",
              "      <th>28</th>\n",
              "      <td>sego anget lawuhe tempe garit cocolane sambel ...</td>\n",
              "      <td>0.273448</td>\n",
              "      <td>{'love': 0.6454, 'wow': 0.2481, 'sad': 0.1065,...</td>\n",
              "    </tr>\n",
              "    <tr>\n",
              "      <th>29</th>\n",
              "      <td>gokil sih ini permatamobile x beneran memudahk...</td>\n",
              "      <td>-0.057967</td>\n",
              "      <td>{'wow': 0.5446, 'love': 0.4554, 'haha': 0.0, '...</td>\n",
              "    </tr>\n",
              "    <tr>\n",
              "      <th>30</th>\n",
              "      <td>rt @jane_prasetyo: tidak cocok latih tim inggr...</td>\n",
              "      <td>-0.276255</td>\n",
              "      <td>{'love': 0.8263, 'haha': 0.094, 'wow': 0.0797,...</td>\n",
              "    </tr>\n",
              "    <tr>\n",
              "      <th>31</th>\n",
              "      <td>pasang earphone, setel lagu kesukaan diulang-u...</td>\n",
              "      <td>0.117366</td>\n",
              "      <td>{'haha': 0.6967, 'love': 0.2601, 'wow': 0.0432...</td>\n",
              "    </tr>\n",
              "    <tr>\n",
              "      <th>32</th>\n",
              "      <td>ga usah ngurusin urusan orang</td>\n",
              "      <td>0.056433</td>\n",
              "      <td>{'love': 0.5591, 'haha': 0.3421, 'wow': 0.0987...</td>\n",
              "    </tr>\n",
              "    <tr>\n",
              "      <th>33</th>\n",
              "      <td>bisa jalan ke : 1. taman2 kota 2. museum terd...</td>\n",
              "      <td>0.071993</td>\n",
              "      <td>{'wow': 0.5604, 'love': 0.4396, 'haha': 0.0, '...</td>\n",
              "    </tr>\n",
              "    <tr>\n",
              "      <th>34</th>\n",
              "      <td>@breflywesly18 jangan mencari arti pada sebuah...</td>\n",
              "      <td>-0.136344</td>\n",
              "      <td>{'love': 0.8769, 'wow': 0.1185, 'sad': 0.0046,...</td>\n",
              "    </tr>\n",
              "    <tr>\n",
              "      <th>35</th>\n",
              "      <td>aku ke kamu itu ky kang parkir, penuh harapan....</td>\n",
              "      <td>0.071837</td>\n",
              "      <td>{'haha': 0.6343, 'love': 0.3331, 'wow': 0.0326...</td>\n",
              "    </tr>\n",
              "    <tr>\n",
              "      <th>36</th>\n",
              "      <td>rt @me_idy: walaupun bukan karena nasabah perm...</td>\n",
              "      <td>-0.079902</td>\n",
              "      <td>{'love': 0.8646, 'wow': 0.1354, 'haha': 0.0, '...</td>\n",
              "    </tr>\n",
              "    <tr>\n",
              "      <th>37</th>\n",
              "      <td>kuis terbuat dr gula? tdk rasanya asem? bisa j...</td>\n",
              "      <td>0.039966</td>\n",
              "      <td>{'haha': 0.6174, 'love': 0.3742, 'wow': 0.0084...</td>\n",
              "    </tr>\n",
              "    <tr>\n",
              "      <th>38</th>\n",
              "      <td>rt @setiadjidamar: kuis terbuat dr gula? tdk r...</td>\n",
              "      <td>-0.101118</td>\n",
              "      <td>{'love': 0.4975, 'haha': 0.3531, 'wow': 0.1494...</td>\n",
              "    </tr>\n",
              "    <tr>\n",
              "      <th>39</th>\n",
              "      <td>rt @breflywesly18: : 1. ga perlu kerja mati-ma...</td>\n",
              "      <td>0.114726</td>\n",
              "      <td>{'love': 0.5368, 'wow': 0.1819, 'angry': 0.158...</td>\n",
              "    </tr>\n",
              "    <tr>\n",
              "      <th>...</th>\n",
              "      <td>...</td>\n",
              "      <td>...</td>\n",
              "      <td>...</td>\n",
              "    </tr>\n",
              "    <tr>\n",
              "      <th>5710</th>\n",
              "      <td>di jalan pulang tau-tau ujan. pas nyampe rumah...</td>\n",
              "      <td>0.947886</td>\n",
              "      <td>{'love': 0.333, 'haha': 0.2869, 'wow': 0.226, ...</td>\n",
              "    </tr>\n",
              "    <tr>\n",
              "      <th>5711</th>\n",
              "      <td>tanpa stres, kebutuhan nasabah bank pun semaki...</td>\n",
              "      <td>0.161381</td>\n",
              "      <td>{'love': 0.7184, 'haha': 0.168, 'wow': 0.0916,...</td>\n",
              "    </tr>\n",
              "    <tr>\n",
              "      <th>5712</th>\n",
              "      <td>waktu luang, itu merupakan sesuatu hal yang di...</td>\n",
              "      <td>0.478523</td>\n",
              "      <td>{'love': 0.4398, 'wow': 0.3911, 'haha': 0.1691...</td>\n",
              "    </tr>\n",
              "    <tr>\n",
              "      <th>5713</th>\n",
              "      <td>teknojurnal: permudah transaksi dengan smartph...</td>\n",
              "      <td>0.218779</td>\n",
              "      <td>{'love': 0.7414, 'wow': 0.2199, 'haha': 0.0387...</td>\n",
              "    </tr>\n",
              "    <tr>\n",
              "      <th>5714</th>\n",
              "      <td>puyengnya gwa akan berakhir ketika membuka hp!...</td>\n",
              "      <td>-0.044958</td>\n",
              "      <td>{'love': 0.5877, 'wow': 0.4123, 'haha': 0.0, '...</td>\n",
              "    </tr>\n",
              "    <tr>\n",
              "      <th>5715</th>\n",
              "      <td>rt @aisaefa_fa: bukan lautan hanya kolam susu ...</td>\n",
              "      <td>0.047811</td>\n",
              "      <td>{'love': 0.8175, 'wow': 0.1825, 'haha': 0.0, '...</td>\n",
              "    </tr>\n",
              "    <tr>\n",
              "      <th>5716</th>\n",
              "      <td>rt @arvianadsyr: tidak ada php dosen, tidak ad...</td>\n",
              "      <td>-0.356096</td>\n",
              "      <td>{'haha': 0.4583, 'love': 0.3534, 'sad': 0.0785...</td>\n",
              "    </tr>\n",
              "    <tr>\n",
              "      <th>5717</th>\n",
              "      <td>rt @arvianadsyr: tidak ada php dosen, tidak ad...</td>\n",
              "      <td>-0.356096</td>\n",
              "      <td>{'haha': 0.4583, 'love': 0.3534, 'sad': 0.0785...</td>\n",
              "    </tr>\n",
              "    <tr>\n",
              "      <th>5718</th>\n",
              "      <td>rt @bismakarisma: sambil menuju tempat latihan...</td>\n",
              "      <td>0.137888</td>\n",
              "      <td>{'angry': 0.5973, 'love': 0.2069, 'wow': 0.173...</td>\n",
              "    </tr>\n",
              "    <tr>\n",
              "      <th>5719</th>\n",
              "      <td>belajar jadi kaya tanpa stres: https://t.co/rg...</td>\n",
              "      <td>0.310493</td>\n",
              "      <td>{'love': 0.6732, 'wow': 0.2737, 'haha': 0.053,...</td>\n",
              "    </tr>\n",
              "    <tr>\n",
              "      <th>5720</th>\n",
              "      <td>jawab tantangan era digital, permata bank hadi...</td>\n",
              "      <td>0.293065</td>\n",
              "      <td>{'love': 0.6453, 'haha': 0.196, 'wow': 0.1586,...</td>\n",
              "    </tr>\n",
              "    <tr>\n",
              "      <th>5721</th>\n",
              "      <td>rt @bismakarisma: sambil menuju tempat latihan...</td>\n",
              "      <td>0.137888</td>\n",
              "      <td>{'angry': 0.5973, 'love': 0.2069, 'wow': 0.173...</td>\n",
              "    </tr>\n",
              "    <tr>\n",
              "      <th>5722</th>\n",
              "      <td>rt @wiranagara: biarkanmu terluka bukan alasan...</td>\n",
              "      <td>-0.026113</td>\n",
              "      <td>{'love': 0.9286, 'wow': 0.0714, 'haha': 0.0, '...</td>\n",
              "    </tr>\n",
              "    <tr>\n",
              "      <th>5723</th>\n",
              "      <td>jika pikiran udah mulai penat, mencari kesendi...</td>\n",
              "      <td>-0.006695</td>\n",
              "      <td>{'love': 0.7297, 'angry': 0.1676, 'wow': 0.102...</td>\n",
              "    </tr>\n",
              "    <tr>\n",
              "      <th>5724</th>\n",
              "      <td>aplikasi permata mobile versi lama secara perl...</td>\n",
              "      <td>-0.086851</td>\n",
              "      <td>{'love': 0.5712, 'wow': 0.3582, 'angry': 0.070...</td>\n",
              "    </tr>\n",
              "    <tr>\n",
              "      <th>5725</th>\n",
              "      <td>kece bgt ini pake permatamobile x, cuma dgn 1 ...</td>\n",
              "      <td>0.041366</td>\n",
              "      <td>{'love': 0.7295, 'wow': 0.2705, 'haha': 0.0, '...</td>\n",
              "    </tr>\n",
              "    <tr>\n",
              "      <th>5726</th>\n",
              "      <td>@erickfloors kebetulan nasabah payroll, jadi a...</td>\n",
              "      <td>-0.341541</td>\n",
              "      <td>{'wow': 0.8031, 'love': 0.1603, 'sad': 0.0367,...</td>\n",
              "    </tr>\n",
              "    <tr>\n",
              "      <th>5727</th>\n",
              "      <td>tadinya berniat daftar permatame, ee ga bs dig...</td>\n",
              "      <td>-0.290990</td>\n",
              "      <td>{'love': 0.3263, 'haha': 0.3237, 'wow': 0.304,...</td>\n",
              "    </tr>\n",
              "    <tr>\n",
              "      <th>5729</th>\n",
              "      <td>kredit pinjaman pun bisa dimonitor di aplikasi...</td>\n",
              "      <td>-0.138822</td>\n",
              "      <td>{'angry': 0.4785, 'sad': 0.3744, 'love': 0.096...</td>\n",
              "    </tr>\n",
              "    <tr>\n",
              "      <th>5730</th>\n",
              "      <td>di paytren, transaksi kita, insyaaallah sedeka...</td>\n",
              "      <td>0.254479</td>\n",
              "      <td>{'love': 0.8612, 'haha': 0.0747, 'wow': 0.0641...</td>\n",
              "    </tr>\n",
              "    <tr>\n",
              "      <th>5731</th>\n",
              "      <td>@prasetiyodp1 pagi pak prasetiyo. untuk menget...</td>\n",
              "      <td>0.043633</td>\n",
              "      <td>{'love': 0.6171, 'haha': 0.3087, 'wow': 0.0743...</td>\n",
              "    </tr>\n",
              "    <tr>\n",
              "      <th>5733</th>\n",
              "      <td>sumpa aku warga bukan ww #garing #selamatpagi</td>\n",
              "      <td>-0.106276</td>\n",
              "      <td>{'love': 0.7498, 'wow': 0.1557, 'haha': 0.0945...</td>\n",
              "    </tr>\n",
              "    <tr>\n",
              "      <th>5734</th>\n",
              "      <td>@permatacare status pembukaan rekening permata...</td>\n",
              "      <td>-0.658223</td>\n",
              "      <td>{'love': 0.5772, 'haha': 0.2144, 'wow': 0.2084...</td>\n",
              "    </tr>\n",
              "    <tr>\n",
              "      <th>5737</th>\n",
              "      <td>rt @wiranagara: agar rela kau hanya perlu awal...</td>\n",
              "      <td>0.263482</td>\n",
              "      <td>{'love': 0.9008, 'wow': 0.0821, 'haha': 0.0171...</td>\n",
              "    </tr>\n",
              "    <tr>\n",
              "      <th>5738</th>\n",
              "      <td>@erickfloors pagi pak erik. untuk pin kartu pe...</td>\n",
              "      <td>0.308502</td>\n",
              "      <td>{'angry': 0.4823, 'haha': 0.2456, 'wow': 0.210...</td>\n",
              "    </tr>\n",
              "    <tr>\n",
              "      <th>5739</th>\n",
              "      <td>@nugrahantiputri betul kak. untuk rekening per...</td>\n",
              "      <td>0.445274</td>\n",
              "      <td>{'love': 0.6699, 'haha': 0.2038, 'wow': 0.1004...</td>\n",
              "    </tr>\n",
              "    <tr>\n",
              "      <th>5740</th>\n",
              "      <td>@permatafamily min, permatame dengan logo gpn ...</td>\n",
              "      <td>0.160351</td>\n",
              "      <td>{'love': 0.4091, 'haha': 0.4022, 'wow': 0.1887...</td>\n",
              "    </tr>\n",
              "    <tr>\n",
              "      <th>5741</th>\n",
              "      <td>@ridoarbain *bentuk tim #sayanguangnya*</td>\n",
              "      <td>0.403855</td>\n",
              "      <td>{'love': 0.7777, 'haha': 0.1562, 'wow': 0.0661...</td>\n",
              "    </tr>\n",
              "    <tr>\n",
              "      <th>5742</th>\n",
              "      <td>orang itu seumur hidupnya nggak pernah ketawa,...</td>\n",
              "      <td>0.123760</td>\n",
              "      <td>{'haha': 0.542, 'love': 0.458, 'wow': 0.0, 'sa...</td>\n",
              "    </tr>\n",
              "    <tr>\n",
              "      <th>5743</th>\n",
              "      <td>@grabid min kalo mau ubah metode pembayaran ke...</td>\n",
              "      <td>-0.086694</td>\n",
              "      <td>{'love': 0.4666, 'haha': 0.462, 'wow': 0.0715,...</td>\n",
              "    </tr>\n",
              "  </tbody>\n",
              "</table>\n",
              "<p>829 rows × 3 columns</p>\n",
              "</div>"
            ],
            "text/plain": [
              "                                             tweet_text     Value  \\\n",
              "5     rt @oriorio22: trainingnya gausah dibawa seriu... -0.050398   \n",
              "6     mau kuliah gratis di jerman? baca ini dulu! ht...  0.329331   \n",
              "7      ga mikir aneh2.. syukuri apa adanya.. hilangi...  0.016488   \n",
              "8     rt @archtechnoyd: : 1. ketuhanan y.m.e 2. kema... -0.048879   \n",
              "13    rt @breflywesly18: : 1. ga perlu kerja mati-ma...  0.114726   \n",
              "14                                    nonton spongebob  -0.020496   \n",
              "15    suka banget sama hestek twitter hari ini :d ha...  0.093560   \n",
              "16     akan terwujud bila pemimpin &amp; rakyatnya d...  0.306276   \n",
              "18            hidup bahagia saja.. susah lewati saja..   0.565432   \n",
              "19          trainingnya gausah dibawa serius kali haha   0.067736   \n",
              "20    situs poker online terpercaya https://t.co/k4a...  0.242628   \n",
              "21     bisa melakukan hal2 kecil : 1. wisata kuliner... -0.108850   \n",
              "22    rt @breflywesly18: : 1. ga perlu kerja mati-ma...  0.114726   \n",
              "23     1. saling menghormati 2. kwalitas pendidikan ... -0.028436   \n",
              "24    agen bola - jadwal pertandingan bola tanggal 0...  0.186399   \n",
              "25     kebahagiaan rasa hanya bisa dilakukan dengan ...  0.470771   \n",
              "26    rt @em_amir_nihat: kebahagiaan rasa hanya bisa... -0.025805   \n",
              "27    rt @satriaoo: keren nih permatamobile x. bisa ...  0.068883   \n",
              "28    sego anget lawuhe tempe garit cocolane sambel ...  0.273448   \n",
              "29    gokil sih ini permatamobile x beneran memudahk... -0.057967   \n",
              "30    rt @jane_prasetyo: tidak cocok latih tim inggr... -0.276255   \n",
              "31    pasang earphone, setel lagu kesukaan diulang-u...  0.117366   \n",
              "32                       ga usah ngurusin urusan orang   0.056433   \n",
              "33     bisa jalan ke : 1. taman2 kota 2. museum terd...  0.071993   \n",
              "34    @breflywesly18 jangan mencari arti pada sebuah... -0.136344   \n",
              "35    aku ke kamu itu ky kang parkir, penuh harapan....  0.071837   \n",
              "36    rt @me_idy: walaupun bukan karena nasabah perm... -0.079902   \n",
              "37    kuis terbuat dr gula? tdk rasanya asem? bisa j...  0.039966   \n",
              "38    rt @setiadjidamar: kuis terbuat dr gula? tdk r... -0.101118   \n",
              "39    rt @breflywesly18: : 1. ga perlu kerja mati-ma...  0.114726   \n",
              "...                                                 ...       ...   \n",
              "5710  di jalan pulang tau-tau ujan. pas nyampe rumah...  0.947886   \n",
              "5711  tanpa stres, kebutuhan nasabah bank pun semaki...  0.161381   \n",
              "5712  waktu luang, itu merupakan sesuatu hal yang di...  0.478523   \n",
              "5713  teknojurnal: permudah transaksi dengan smartph...  0.218779   \n",
              "5714  puyengnya gwa akan berakhir ketika membuka hp!... -0.044958   \n",
              "5715  rt @aisaefa_fa: bukan lautan hanya kolam susu ...  0.047811   \n",
              "5716  rt @arvianadsyr: tidak ada php dosen, tidak ad... -0.356096   \n",
              "5717  rt @arvianadsyr: tidak ada php dosen, tidak ad... -0.356096   \n",
              "5718  rt @bismakarisma: sambil menuju tempat latihan...  0.137888   \n",
              "5719  belajar jadi kaya tanpa stres: https://t.co/rg...  0.310493   \n",
              "5720  jawab tantangan era digital, permata bank hadi...  0.293065   \n",
              "5721  rt @bismakarisma: sambil menuju tempat latihan...  0.137888   \n",
              "5722  rt @wiranagara: biarkanmu terluka bukan alasan... -0.026113   \n",
              "5723  jika pikiran udah mulai penat, mencari kesendi... -0.006695   \n",
              "5724  aplikasi permata mobile versi lama secara perl... -0.086851   \n",
              "5725  kece bgt ini pake permatamobile x, cuma dgn 1 ...  0.041366   \n",
              "5726  @erickfloors kebetulan nasabah payroll, jadi a... -0.341541   \n",
              "5727  tadinya berniat daftar permatame, ee ga bs dig... -0.290990   \n",
              "5729  kredit pinjaman pun bisa dimonitor di aplikasi... -0.138822   \n",
              "5730  di paytren, transaksi kita, insyaaallah sedeka...  0.254479   \n",
              "5731  @prasetiyodp1 pagi pak prasetiyo. untuk menget...  0.043633   \n",
              "5733      sumpa aku warga bukan ww #garing #selamatpagi -0.106276   \n",
              "5734  @permatacare status pembukaan rekening permata... -0.658223   \n",
              "5737  rt @wiranagara: agar rela kau hanya perlu awal...  0.263482   \n",
              "5738  @erickfloors pagi pak erik. untuk pin kartu pe...  0.308502   \n",
              "5739  @nugrahantiputri betul kak. untuk rekening per...  0.445274   \n",
              "5740  @permatafamily min, permatame dengan logo gpn ...  0.160351   \n",
              "5741            @ridoarbain *bentuk tim #sayanguangnya*  0.403855   \n",
              "5742  orang itu seumur hidupnya nggak pernah ketawa,...  0.123760   \n",
              "5743  @grabid min kalo mau ubah metode pembayaran ke... -0.086694   \n",
              "\n",
              "                                                    emo  \n",
              "5     {'love': 0.8395, 'wow': 0.0814, 'haha': 0.0791...  \n",
              "6     {'love': 0.5483, 'wow': 0.347, 'sad': 0.1048, ...  \n",
              "7     {'love': 0.504, 'haha': 0.4437, 'wow': 0.0523,...  \n",
              "8     {'love': 0.8326, 'haha': 0.0982, 'wow': 0.0691...  \n",
              "13    {'love': 0.5368, 'wow': 0.1819, 'angry': 0.158...  \n",
              "14    {'love': 0.728, 'haha': 0.2038, 'wow': 0.0681,...  \n",
              "15    {'haha': 0.8436, 'love': 0.1443, 'wow': 0.0121...  \n",
              "16    {'love': 0.8823, 'haha': 0.0707, 'wow': 0.047,...  \n",
              "18    {'haha': 0.6492, 'love': 0.2389, 'wow': 0.1119...  \n",
              "19    {'haha': 0.6251, 'love': 0.2174, 'wow': 0.1575...  \n",
              "20    {'haha': 0.6552, 'love': 0.3407, 'wow': 0.0041...  \n",
              "21    {'love': 0.5264, 'wow': 0.4736, 'haha': 0.0, '...  \n",
              "22    {'love': 0.5368, 'wow': 0.1819, 'angry': 0.158...  \n",
              "23    {'love': 0.638, 'wow': 0.3308, 'angry': 0.0312...  \n",
              "24    {'love': 0.7851, 'wow': 0.0954, 'sad': 0.0778,...  \n",
              "25    {'haha': 0.3961, 'love': 0.3774, 'wow': 0.2265...  \n",
              "26    {'love': 0.9054, 'wow': 0.0664, 'haha': 0.0282...  \n",
              "27    {'love': 0.4927, 'haha': 0.2544, 'wow': 0.2319...  \n",
              "28    {'love': 0.6454, 'wow': 0.2481, 'sad': 0.1065,...  \n",
              "29    {'wow': 0.5446, 'love': 0.4554, 'haha': 0.0, '...  \n",
              "30    {'love': 0.8263, 'haha': 0.094, 'wow': 0.0797,...  \n",
              "31    {'haha': 0.6967, 'love': 0.2601, 'wow': 0.0432...  \n",
              "32    {'love': 0.5591, 'haha': 0.3421, 'wow': 0.0987...  \n",
              "33    {'wow': 0.5604, 'love': 0.4396, 'haha': 0.0, '...  \n",
              "34    {'love': 0.8769, 'wow': 0.1185, 'sad': 0.0046,...  \n",
              "35    {'haha': 0.6343, 'love': 0.3331, 'wow': 0.0326...  \n",
              "36    {'love': 0.8646, 'wow': 0.1354, 'haha': 0.0, '...  \n",
              "37    {'haha': 0.6174, 'love': 0.3742, 'wow': 0.0084...  \n",
              "38    {'love': 0.4975, 'haha': 0.3531, 'wow': 0.1494...  \n",
              "39    {'love': 0.5368, 'wow': 0.1819, 'angry': 0.158...  \n",
              "...                                                 ...  \n",
              "5710  {'love': 0.333, 'haha': 0.2869, 'wow': 0.226, ...  \n",
              "5711  {'love': 0.7184, 'haha': 0.168, 'wow': 0.0916,...  \n",
              "5712  {'love': 0.4398, 'wow': 0.3911, 'haha': 0.1691...  \n",
              "5713  {'love': 0.7414, 'wow': 0.2199, 'haha': 0.0387...  \n",
              "5714  {'love': 0.5877, 'wow': 0.4123, 'haha': 0.0, '...  \n",
              "5715  {'love': 0.8175, 'wow': 0.1825, 'haha': 0.0, '...  \n",
              "5716  {'haha': 0.4583, 'love': 0.3534, 'sad': 0.0785...  \n",
              "5717  {'haha': 0.4583, 'love': 0.3534, 'sad': 0.0785...  \n",
              "5718  {'angry': 0.5973, 'love': 0.2069, 'wow': 0.173...  \n",
              "5719  {'love': 0.6732, 'wow': 0.2737, 'haha': 0.053,...  \n",
              "5720  {'love': 0.6453, 'haha': 0.196, 'wow': 0.1586,...  \n",
              "5721  {'angry': 0.5973, 'love': 0.2069, 'wow': 0.173...  \n",
              "5722  {'love': 0.9286, 'wow': 0.0714, 'haha': 0.0, '...  \n",
              "5723  {'love': 0.7297, 'angry': 0.1676, 'wow': 0.102...  \n",
              "5724  {'love': 0.5712, 'wow': 0.3582, 'angry': 0.070...  \n",
              "5725  {'love': 0.7295, 'wow': 0.2705, 'haha': 0.0, '...  \n",
              "5726  {'wow': 0.8031, 'love': 0.1603, 'sad': 0.0367,...  \n",
              "5727  {'love': 0.3263, 'haha': 0.3237, 'wow': 0.304,...  \n",
              "5729  {'angry': 0.4785, 'sad': 0.3744, 'love': 0.096...  \n",
              "5730  {'love': 0.8612, 'haha': 0.0747, 'wow': 0.0641...  \n",
              "5731  {'love': 0.6171, 'haha': 0.3087, 'wow': 0.0743...  \n",
              "5733  {'love': 0.7498, 'wow': 0.1557, 'haha': 0.0945...  \n",
              "5734  {'love': 0.5772, 'haha': 0.2144, 'wow': 0.2084...  \n",
              "5737  {'love': 0.9008, 'wow': 0.0821, 'haha': 0.0171...  \n",
              "5738  {'angry': 0.4823, 'haha': 0.2456, 'wow': 0.210...  \n",
              "5739  {'love': 0.6699, 'haha': 0.2038, 'wow': 0.1004...  \n",
              "5740  {'love': 0.4091, 'haha': 0.4022, 'wow': 0.1887...  \n",
              "5741  {'love': 0.7777, 'haha': 0.1562, 'wow': 0.0661...  \n",
              "5742  {'haha': 0.542, 'love': 0.458, 'wow': 0.0, 'sa...  \n",
              "5743  {'love': 0.4666, 'haha': 0.462, 'wow': 0.0715,...  \n",
              "\n",
              "[829 rows x 3 columns]"
            ]
          },
          "metadata": {
            "tags": []
          },
          "execution_count": 133
        }
      ]
    },
    {
      "metadata": {
        "id": "Ur5A3qoCT_2W",
        "colab_type": "code",
        "colab": {}
      },
      "cell_type": "code",
      "source": [
        ""
      ],
      "execution_count": 0,
      "outputs": []
    }
  ]
}